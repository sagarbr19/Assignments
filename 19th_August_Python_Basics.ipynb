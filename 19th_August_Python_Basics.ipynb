{
 "cells": [
  {
   "cell_type": "markdown",
   "id": "1cf53709-2244-4042-9bb9-beaf599a81e0",
   "metadata": {},
   "source": [
    "# Assignment- 19th August Python Basics"
   ]
  },
  {
   "cell_type": "markdown",
   "id": "9c193602-9d43-48fc-bd2a-6a334533a1c9",
   "metadata": {},
   "source": [
    "# TOPIC: Python Basics Variable"
   ]
  },
  {
   "cell_type": "markdown",
   "id": "a89c194d-763a-4247-a974-b5c455ffaa31",
   "metadata": {},
   "source": [
    "1. Swapping the variable without using temp variable"
   ]
  },
  {
   "cell_type": "code",
   "execution_count": 9,
   "id": "09cf1eb4-fede-42e7-917c-4f176d9b0b3d",
   "metadata": {
    "collapsed": true,
    "jupyter": {
     "outputs_hidden": true
    },
    "tags": []
   },
   "outputs": [
    {
     "name": "stdout",
     "output_type": "stream",
     "text": [
      "The value of x after swapping: 50\n",
      "The value of y after swapping; 100\n"
     ]
    }
   ],
   "source": [
    "#Assining integer values to the variable x and y\n",
    "x = 100\n",
    "y = 50\n",
    "\n",
    "#swapping variables\n",
    "x,y = y,x\n",
    "\n",
    "print(\"The value of x after swapping:\",x)\n",
    "print(\"The value of y after swapping;\",y)\n"
   ]
  },
  {
   "cell_type": "markdown",
   "id": "7f78513e-880f-4ce1-aa31-4d7106261043",
   "metadata": {},
   "source": [
    "2. Area of the Triangle"
   ]
  },
  {
   "cell_type": "code",
   "execution_count": 12,
   "id": "22d6d112-dfe1-4de3-a79d-97c157f04c9d",
   "metadata": {
    "collapsed": true,
    "jupyter": {
     "outputs_hidden": true
    },
    "tags": []
   },
   "outputs": [
    {
     "name": "stdout",
     "output_type": "stream",
     "text": [
      "Enter the value of length\n"
     ]
    },
    {
     "name": "stdin",
     "output_type": "stream",
     "text": [
      " 20\n"
     ]
    },
    {
     "name": "stdout",
     "output_type": "stream",
     "text": [
      "Enter the value of width\n"
     ]
    },
    {
     "name": "stdin",
     "output_type": "stream",
     "text": [
      " 32\n"
     ]
    },
    {
     "name": "stdout",
     "output_type": "stream",
     "text": [
      "The area of Triangle is: 320.0\n"
     ]
    }
   ],
   "source": [
    "#length and width variables are user input variables\n",
    "print(\"Enter the value of length\")\n",
    "length = float(input()) # return type of input() funtions is string.Thats why type casting has been done\n",
    "print(\"Enter the value of width\")\n",
    "width = float(input())\n",
    "\n",
    "# area of triangle formula\n",
    "area = (length*width)/2\n",
    "\n",
    "print(\"The area of Triangle is:\",area)\n",
    "\n"
   ]
  },
  {
   "cell_type": "markdown",
   "id": "f9fae3bd-f821-4c98-a420-b57d63fa6c52",
   "metadata": {},
   "source": [
    "3.Celsius to Fahrenheit."
   ]
  },
  {
   "cell_type": "code",
   "execution_count": 11,
   "id": "99788da8-ab5a-4c7e-bf86-6a0a171a2d76",
   "metadata": {
    "collapsed": true,
    "jupyter": {
     "outputs_hidden": true
    },
    "tags": []
   },
   "outputs": [
    {
     "name": "stdout",
     "output_type": "stream",
     "text": [
      "Enter the Temperature Value in Celsius\n"
     ]
    },
    {
     "name": "stdin",
     "output_type": "stream",
     "text": [
      " 82\n"
     ]
    },
    {
     "name": "stdout",
     "output_type": "stream",
     "text": [
      "82.0 degree Celsius is equals to 179.6 degree fahrenheit\n"
     ]
    }
   ],
   "source": [
    "# Celsius value is a user input value\n",
    "print(\"Enter the Temperature Value in Celsius\")\n",
    "celsius = float(input())\n",
    "\n",
    "# Celsius to Fahrenheit formula\n",
    "\n",
    "Fahrenheit = (9*celsius)/5 + 32\n",
    "\n",
    "print(\"{} degree Celsius is equals to {} degree fahrenheit\".format(celsius,Fahrenheit))"
   ]
  },
  {
   "cell_type": "markdown",
   "id": "86cff42c-f9b2-4419-87cf-82f63b4542e1",
   "metadata": {},
   "source": [
    "# String based questions"
   ]
  },
  {
   "cell_type": "markdown",
   "id": "1d7a7b1c-8fce-40cd-8e3e-5e3bc329ec83",
   "metadata": {},
   "source": [
    "1. Length of String"
   ]
  },
  {
   "cell_type": "code",
   "execution_count": 13,
   "id": "00bb744c-c6d9-43b7-bf62-a37dbf790b27",
   "metadata": {
    "collapsed": true,
    "jupyter": {
     "outputs_hidden": true
    },
    "tags": []
   },
   "outputs": [
    {
     "name": "stdout",
     "output_type": "stream",
     "text": [
      "Enter a string as input\n"
     ]
    },
    {
     "name": "stdin",
     "output_type": "stream",
     "text": [
      " Basic assignment submission\n"
     ]
    },
    {
     "name": "stdout",
     "output_type": "stream",
     "text": [
      "The length of entered string : 27\n"
     ]
    }
   ],
   "source": [
    "print(\"Enter a string as input\")\n",
    "\n",
    "string = input()\n",
    "\n",
    "length = len(string) # len() funtion returns the length of a string\n",
    "\n",
    "print(\"The length of entered string :\",length)"
   ]
  },
  {
   "cell_type": "markdown",
   "id": "43414368-8618-4bfb-9cb5-05f550754809",
   "metadata": {},
   "source": [
    "2.The number of vowels (a, e, i, o, u) in the string."
   ]
  },
  {
   "cell_type": "code",
   "execution_count": 20,
   "id": "073d5dfb-0738-4a51-ad3c-4072f836e586",
   "metadata": {
    "collapsed": true,
    "jupyter": {
     "outputs_hidden": true
    },
    "tags": []
   },
   "outputs": [
    {
     "name": "stdout",
     "output_type": "stream",
     "text": [
      "Enter a string as input\n"
     ]
    },
    {
     "name": "stdin",
     "output_type": "stream",
     "text": [
      " aeiouzzxcvb\n"
     ]
    },
    {
     "name": "stdout",
     "output_type": "stream",
     "text": [
      "The number of vowels in the string is: 5\n"
     ]
    }
   ],
   "source": [
    "print(\"Enter a string as input\")\n",
    "\n",
    "string = input()\n",
    "count = 0\n",
    "\n",
    "for i in string:\n",
    "    if i in ['a','e','i','o','u']: # ignoring Upper Case Vowels.Becoz in assignment sheet they were particularly mentioned about lower case vowels\n",
    "        count+=1\n",
    "print(\"The number of vowels in the string is:\",count)\n"
   ]
  },
  {
   "cell_type": "markdown",
   "id": "2a39f792-c23a-41f1-af03-4ee08267f18f",
   "metadata": {},
   "source": [
    "3. Reversing the order of characters using string slicing"
   ]
  },
  {
   "cell_type": "code",
   "execution_count": 21,
   "id": "0040b5e6-a1fb-4c5c-9b83-6214fbe4acb3",
   "metadata": {
    "collapsed": true,
    "jupyter": {
     "outputs_hidden": true
    },
    "tags": []
   },
   "outputs": [
    {
     "name": "stdout",
     "output_type": "stream",
     "text": [
      "Enter a string as input\n"
     ]
    },
    {
     "name": "stdin",
     "output_type": "stream",
     "text": [
      " Good Morning\n"
     ]
    },
    {
     "name": "stdout",
     "output_type": "stream",
     "text": [
      "String After reversed: gninroM dooG\n"
     ]
    }
   ],
   "source": [
    "print(\"Enter a string as input\")\n",
    "\n",
    "string = input()\n",
    "\n",
    "reverse = string[::-1] # slicing a whole string with a step value of -1\n",
    "\n",
    "print(\"String After reversed:\", reverse)"
   ]
  },
  {
   "cell_type": "markdown",
   "id": "3f5b487b-5f1c-4fdc-8423-27b493313d83",
   "metadata": {},
   "source": [
    "4. Palindrome or Not "
   ]
  },
  {
   "cell_type": "code",
   "execution_count": null,
   "id": "ae1cc6cc-836c-4598-94cf-a9cdccaaeaf9",
   "metadata": {},
   "outputs": [],
   "source": [
    "print(\"Enter a string as input\")\n",
    "\n",
    "string = input()\n",
    "reverse = string[::-1]\n",
    "\n",
    "if string == reverse:\n",
    "    print(\"String is a palindrome\")\n",
    "else:\n",
    "    print(\"The String is not a palindrome\")\n",
    "    \n",
    "\n"
   ]
  },
  {
   "cell_type": "markdown",
   "id": "66aebf94-32be-42f9-a9a8-8adde0d3ff80",
   "metadata": {},
   "source": [
    "5. Removing white spaces"
   ]
  },
  {
   "cell_type": "code",
   "execution_count": 24,
   "id": "4d25bec1-4cd0-47c7-89ee-bda1f7a91340",
   "metadata": {
    "collapsed": true,
    "jupyter": {
     "outputs_hidden": true
    },
    "tags": []
   },
   "outputs": [
    {
     "name": "stdout",
     "output_type": "stream",
     "text": [
      "Enter a string as input\n"
     ]
    },
    {
     "name": "stdin",
     "output_type": "stream",
     "text": [
      " My name is sagar\n"
     ]
    },
    {
     "name": "stdout",
     "output_type": "stream",
     "text": [
      "string with no spaces is  Mynameissagar\n"
     ]
    }
   ],
   "source": [
    "print(\"Enter a string as input\")\n",
    "\n",
    "string = input()\n",
    "\n",
    "string_with_no_spaces = string.replace(\" \",\"\")\n",
    "print(\"string with no spaces is \", string_with_no_spaces)"
   ]
  },
  {
   "cell_type": "code",
   "execution_count": null,
   "id": "d3067474-7db4-4bae-912a-59e7756fca11",
   "metadata": {},
   "outputs": [],
   "source": []
  },
  {
   "cell_type": "code",
   "execution_count": null,
   "id": "ab98eadd-b089-4484-a3c5-e602f39315c0",
   "metadata": {},
   "outputs": [],
   "source": []
  },
  {
   "cell_type": "code",
   "execution_count": null,
   "id": "94917050-98c6-4ae9-8a6f-005dd03b4c28",
   "metadata": {},
   "outputs": [],
   "source": []
  },
  {
   "cell_type": "code",
   "execution_count": null,
   "id": "f3915d37-71e3-4032-8b23-b51af5587720",
   "metadata": {},
   "outputs": [],
   "source": []
  },
  {
   "cell_type": "code",
   "execution_count": null,
   "id": "60e7e65d-ff5a-4792-81be-2ab3b96c14d2",
   "metadata": {},
   "outputs": [],
   "source": []
  }
 ],
 "metadata": {
  "kernelspec": {
   "display_name": "Python 3 (ipykernel)",
   "language": "python",
   "name": "python3"
  },
  "language_info": {
   "codemirror_mode": {
    "name": "ipython",
    "version": 3
   },
   "file_extension": ".py",
   "mimetype": "text/x-python",
   "name": "python",
   "nbconvert_exporter": "python",
   "pygments_lexer": "ipython3",
   "version": "3.10.8"
  }
 },
 "nbformat": 4,
 "nbformat_minor": 5
}
