{
 "cells": [
  {
   "cell_type": "markdown",
   "id": "244c2f16-c3c8-4ce0-9fea-75a5e12882ff",
   "metadata": {},
   "source": [
    "# Control Flow"
   ]
  },
  {
   "cell_type": "markdown",
   "id": "5280f511-3ef7-485f-972c-29b543da2ee4",
   "metadata": {},
   "source": [
    "# Basic If-Else Statements:\n"
   ]
  },
  {
   "cell_type": "markdown",
   "id": "40b42a99-9d8f-4a6a-85bb-78f0e6e74654",
   "metadata": {},
   "source": [
    "1. Write a Python program to check if a given number is positive or negative.\n"
   ]
  },
  {
   "cell_type": "code",
   "execution_count": null,
   "id": "9a948794-da99-44ed-8323-b9d9636e2bfd",
   "metadata": {},
   "outputs": [],
   "source": [
    "number = int(input('Enter a number'))\n",
    "if n > 0:\n",
    "    print(\"The Number is positive\")\n",
    "else:\n",
    "    print(\"The number is negative\")"
   ]
  },
  {
   "cell_type": "markdown",
   "id": "063c66e7-638f-4344-bb07-5ce7e5515acf",
   "metadata": {},
   "source": [
    "2. Create a program that determines if a person is eligible to vote based on their age.\n"
   ]
  },
  {
   "cell_type": "code",
   "execution_count": null,
   "id": "d4c1bb98-6a0c-44d9-ad95-d750e665cff2",
   "metadata": {},
   "outputs": [],
   "source": [
    "age = int(input())\n",
    "\n",
    "if age >= 18:\n",
    "    print('Eligible to vote')\n",
    "else:\n",
    "    print('Not eligible')\n",
    "    \n"
   ]
  },
  {
   "cell_type": "markdown",
   "id": "a15bb3e8-7e82-4d2b-804a-1aad0f975b4d",
   "metadata": {},
   "source": [
    "3. Develop a program to find the maximum of two numbers using if-else statements.\n"
   ]
  },
  {
   "cell_type": "code",
   "execution_count": 4,
   "id": "393edb20-fe43-4008-b160-2f7c692d8c15",
   "metadata": {},
   "outputs": [
    {
     "name": "stdin",
     "output_type": "stream",
     "text": [
      "Enter two numbers 25 4\n"
     ]
    },
    {
     "name": "stdout",
     "output_type": "stream",
     "text": [
      "25 is greater than  4\n"
     ]
    }
   ],
   "source": [
    "a,b = map(int , input('Enter two numbers').split())\n",
    "\n",
    "if a>b:\n",
    "    print(f'{a} is greater than  {b}')\n",
    "else:\n",
    "    print(f'{b} is greater than {a}')\n"
   ]
  },
  {
   "cell_type": "markdown",
   "id": "a6a8caa6-ad43-4d6a-adc1-fa1be7fb0b64",
   "metadata": {},
   "source": [
    "4. Write a Python script to classify a given year as a leap year or not.\n"
   ]
  },
  {
   "cell_type": "code",
   "execution_count": 1,
   "id": "cb86969b-bc09-4bb8-b6e3-0d6f0a3f10bd",
   "metadata": {},
   "outputs": [
    {
     "name": "stdin",
     "output_type": "stream",
     "text": [
      "Enter year 2024\n"
     ]
    },
    {
     "name": "stdout",
     "output_type": "stream",
     "text": [
      "2024 is a leap year\n"
     ]
    }
   ],
   "source": [
    "year  = int(input('Enter year'))\n",
    "\n",
    "if year%4 == 0:\n",
    "    print(f'{year} is a leap year')\n",
    "else:\n",
    "    print(f'{year} is not a leap year')"
   ]
  },
  {
   "cell_type": "markdown",
   "id": "6673da58-d2ae-46d8-a170-c6894f6eb0ca",
   "metadata": {},
   "source": [
    "5. Create a program that checks whether a character is a vowel or a consonant.\n"
   ]
  },
  {
   "cell_type": "code",
   "execution_count": 2,
   "id": "dd0e4d59-8158-4106-b063-dba658d6ef2b",
   "metadata": {},
   "outputs": [
    {
     "name": "stdin",
     "output_type": "stream",
     "text": [
      "Enter a character of string a\n"
     ]
    },
    {
     "name": "stdout",
     "output_type": "stream",
     "text": [
      "a is a vowel\n"
     ]
    }
   ],
   "source": [
    "char = input('Enter a character of string')\n",
    "vowel = ['a','e','i','o','u','A','E','I','O','U']\n",
    "\n",
    "if char in vowel:\n",
    "    print(f'{char} is a vowel')\n",
    "else:\n",
    "    print(f'{char} is a consonant')\n",
    "    \n",
    "\n"
   ]
  },
  {
   "cell_type": "markdown",
   "id": "b5ea71af-967d-4ed7-9d13-291a932e18e9",
   "metadata": {},
   "source": [
    "6. Implement a program to determine whether a given number is even or odd.\n"
   ]
  },
  {
   "cell_type": "code",
   "execution_count": 3,
   "id": "93ff57be-4932-4c96-a416-f23350a1ac89",
   "metadata": {},
   "outputs": [
    {
     "name": "stdin",
     "output_type": "stream",
     "text": [
      " 25\n"
     ]
    },
    {
     "name": "stdout",
     "output_type": "stream",
     "text": [
      "The number is odd\n"
     ]
    }
   ],
   "source": [
    "number = int(input())\n",
    "\n",
    "if number%2==0:\n",
    "    print('The  number is even')\n",
    "else:\n",
    "    print('The number is odd')\n",
    "    "
   ]
  },
  {
   "cell_type": "markdown",
   "id": "a998498f-2d62-4064-959e-5f4375bc9887",
   "metadata": {},
   "source": [
    "7. Write a Python function to calculate the absolute value of a number without using the `abs()` function.\n"
   ]
  },
  {
   "cell_type": "code",
   "execution_count": 8,
   "id": "7d8f3118-4b15-4aa6-b8bc-c637de05d635",
   "metadata": {},
   "outputs": [
    {
     "name": "stdin",
     "output_type": "stream",
     "text": [
      "Enter a number -22\n"
     ]
    },
    {
     "name": "stdout",
     "output_type": "stream",
     "text": [
      "The absolute value of a entered number is 22\n"
     ]
    }
   ],
   "source": [
    "number = int(input('Enter a number'))\n",
    "\n",
    "if number < 0:\n",
    "    number = -(number)\n",
    "    print('The absolute value of a entered number is',number)\n",
    "else:\n",
    "    print('The absolute value of a entered number is',number)\n",
    "    "
   ]
  },
  {
   "cell_type": "markdown",
   "id": "36673ed1-f2a3-463a-b7bd-00090ad5ca3b",
   "metadata": {},
   "source": [
    "8. Develop a program that determines the largest of three given numbers using if-else statements.\n"
   ]
  },
  {
   "cell_type": "code",
   "execution_count": 9,
   "id": "055c0712-3ab3-4da1-803b-48a11506f750",
   "metadata": {},
   "outputs": [
    {
     "name": "stdin",
     "output_type": "stream",
     "text": [
      "Enter three numbers 22 24 25\n"
     ]
    },
    {
     "name": "stdout",
     "output_type": "stream",
     "text": [
      "25 is largest amoung 22,24,25\n"
     ]
    }
   ],
   "source": [
    "a,b,c = map(int, input('Enter three numbers').split())\n",
    "\n",
    "if a>b and a>c:\n",
    "    print(f'{a} is largest amoung {a},{b},{c}')\n",
    "elif b>a and b>c:\n",
    "    print(f'{b} is largest amoung {a},{b},{c}')\n",
    "else:\n",
    "    print(f'{c} is largest amoung {a},{b},{c}')\n",
    "    "
   ]
  },
  {
   "cell_type": "markdown",
   "id": "080c7b00-bf16-47eb-b966-3224309c4f8c",
   "metadata": {},
   "source": [
    "9. Create a program that checks if a given string is a palindrome.\n"
   ]
  },
  {
   "cell_type": "code",
   "execution_count": 11,
   "id": "a7991710-40ca-4f96-85a4-744f4d99f938",
   "metadata": {},
   "outputs": [
    {
     "name": "stdin",
     "output_type": "stream",
     "text": [
      " sagar\n"
     ]
    },
    {
     "name": "stdout",
     "output_type": "stream",
     "text": [
      "The string is not a palindrome\n"
     ]
    }
   ],
   "source": [
    "string = input()\n",
    "\n",
    "if string[::] == string[::-1]:\n",
    "    print('The string is a palindrome')\n",
    "else:\n",
    "    print('The string is not a palindrome')"
   ]
  },
  {
   "cell_type": "markdown",
   "id": "b10b1038-9a56-4513-a2c9-3e270f4c1450",
   "metadata": {},
   "source": [
    "10. Write a Python program to calculate the grade based on a student's score."
   ]
  },
  {
   "cell_type": "code",
   "execution_count": 13,
   "id": "994f84ec-1c10-4496-b6ca-b6a021bb110d",
   "metadata": {},
   "outputs": [
    {
     "name": "stdin",
     "output_type": "stream",
     "text": [
      "Enter student marks 96\n"
     ]
    },
    {
     "name": "stdout",
     "output_type": "stream",
     "text": [
      "The student grade = A+\n"
     ]
    }
   ],
   "source": [
    "marks = int(input('Enter student marks'))\n",
    "\n",
    "if marks >= 90:\n",
    "    grade = 'A+'\n",
    "    print('The student grade =',grade)\n",
    "elif marks <= 90 and marks >= 75:\n",
    "    grade = 'A'\n",
    "    print('The student grade = ',grade)\n",
    "else:\n",
    "    grade = 'B'\n",
    "    print('The student grade =',grade)"
   ]
  },
  {
   "cell_type": "markdown",
   "id": "c39d3815-a0ee-4424-82f8-69b16755aa06",
   "metadata": {},
   "source": [
    "# Nested If-Else Statements:\n"
   ]
  },
  {
   "cell_type": "markdown",
   "id": "e4a4e183-bea5-466c-be0d-6677ecdcb222",
   "metadata": {},
   "source": [
    "11. Write a program to find the largest among three numbers using nested if-else statements.\n"
   ]
  },
  {
   "cell_type": "code",
   "execution_count": 17,
   "id": "53c23b81-fae6-4657-bb61-daab722658f0",
   "metadata": {},
   "outputs": [
    {
     "name": "stdin",
     "output_type": "stream",
     "text": [
      "Enter three numbers 25 29 27\n"
     ]
    },
    {
     "name": "stdout",
     "output_type": "stream",
     "text": [
      "29 is the largest amoung 25,29,27\n"
     ]
    }
   ],
   "source": [
    "a,b,c = map(int, input('Enter three numbers').split())\n",
    "\n",
    "if a>b:\n",
    "    if a>c:\n",
    "        print(f'{a} is the largest amoung {a},{b},{c}')\n",
    "elif b>a:\n",
    "    if b>c:\n",
    "        print(f'{b} is the largest amoung {a},{b},{c}')\n",
    "    else:\n",
    "        print(f'{c} is the largest amoung {a},{b},{c}')"
   ]
  },
  {
   "cell_type": "markdown",
   "id": "ecd67777-0ef7-4b68-80f3-6a5dde765181",
   "metadata": {},
   "source": [
    "12. Implement a program to determine if a triangle is equilateral, isosceles, or scalene.\n"
   ]
  },
  {
   "cell_type": "code",
   "execution_count": 30,
   "id": "31906415-eb1b-40c1-aac5-f465a9592983",
   "metadata": {},
   "outputs": [
    {
     "name": "stdin",
     "output_type": "stream",
     "text": [
      "Enter three sides length of a triangle 9 40 41\n"
     ]
    },
    {
     "name": "stdout",
     "output_type": "stream",
     "text": [
      "The triangle is scalene\n"
     ]
    }
   ],
   "source": [
    "a,b,c = map(int, input(\"Enter three sides length of a triangle\").split())\n",
    "if b+a >a and c+a > b and a+b > c:\n",
    "    if a ==b==c:\n",
    "        print(\"The triangle is equilateral\")\n",
    "    elif (a==b and b!=c) or (b==c and c!=a) or (c==a and a!=b):\n",
    "        print(\"the triange is isosceles\")\n",
    "    else:\n",
    "        print('The triangle is scalene')\n",
    "else:\n",
    "    print('These length of sides Triangles non exist')"
   ]
  },
  {
   "cell_type": "markdown",
   "id": "30d7f992-9967-4af9-a027-b06d90f60237",
   "metadata": {},
   "source": [
    "13. Develop a program that checks if a year is a leap year and also if it is a century year.\n"
   ]
  },
  {
   "cell_type": "code",
   "execution_count": 36,
   "id": "f4736652-109a-4f71-9d5a-4cefb0dcc500",
   "metadata": {},
   "outputs": [
    {
     "name": "stdin",
     "output_type": "stream",
     "text": [
      "Enter year 2000\n"
     ]
    },
    {
     "name": "stdout",
     "output_type": "stream",
     "text": [
      "2000 is a leap year and century year\n"
     ]
    }
   ],
   "source": [
    "year_ = int(input('Enter year'))\n",
    "if year_%4 ==0 and year_%100 == 0:\n",
    "    print(f'{year_} is a leap year and century year')\n",
    "elif year%100 == 0 :\n",
    "    print(f'{year_} is a century year')\n",
    "elif year%4 == 0:\n",
    "    print(f'{year_} is a leap year')\n",
    "else:\n",
    "    print(f'{year_} is neither leap year nor century year')"
   ]
  },
  {
   "cell_type": "markdown",
   "id": "203b8d6a-3d4e-4afc-8f3e-337a4cfab820",
   "metadata": {},
   "source": [
    "14. Write a Python script to determine if a number is positive, negative, or zero.\n"
   ]
  },
  {
   "cell_type": "code",
   "execution_count": 38,
   "id": "a72f74dc-4ce3-43d1-a407-7283fd07a03d",
   "metadata": {},
   "outputs": [
    {
     "name": "stdin",
     "output_type": "stream",
     "text": [
      "Enter a number -24\n"
     ]
    },
    {
     "name": "stdout",
     "output_type": "stream",
     "text": [
      "The number is negative\n"
     ]
    }
   ],
   "source": [
    "num = int(input('Enter a number'))\n",
    "if num == 0:\n",
    "    print('The Number is zero')\n",
    "elif num > 0:\n",
    "    print(\"The number is positive\")\n",
    "else:\n",
    "    print(\"The number is negative\")"
   ]
  },
  {
   "cell_type": "markdown",
   "id": "11cb4cbf-113b-4b5e-994a-56bba3dd95c8",
   "metadata": {},
   "source": [
    "15. Create a program to check if a person is a teenager (between 13 and 19 years old).\n"
   ]
  },
  {
   "cell_type": "code",
   "execution_count": 42,
   "id": "18b24770-6693-4734-9b26-0f87aede82c4",
   "metadata": {},
   "outputs": [
    {
     "name": "stdin",
     "output_type": "stream",
     "text": [
      "Enter age 18\n"
     ]
    },
    {
     "name": "stdout",
     "output_type": "stream",
     "text": [
      "The person is a teenager\n"
     ]
    }
   ],
   "source": [
    "person_age = int(input('Enter age'))\n",
    "if 13<= person_age <= 19:\n",
    "    print('The person is a teenager')\n",
    "else:\n",
    "    print('The person is not a teenager')"
   ]
  },
  {
   "cell_type": "markdown",
   "id": "a14eed29-0064-4044-9f3b-1b1aac5bbd5c",
   "metadata": {},
   "source": [
    "16. Develop a program that determines the type of angle based on its measure (acute, obtuse, or right).\n"
   ]
  },
  {
   "cell_type": "code",
   "execution_count": 5,
   "id": "a78247cb-9fd0-435a-87ce-4463072b7f0d",
   "metadata": {},
   "outputs": [
    {
     "name": "stdin",
     "output_type": "stream",
     "text": [
      "Enter angle 192\n"
     ]
    },
    {
     "name": "stdout",
     "output_type": "stream",
     "text": [
      "periodicity principle has to be taken to reduce angle\n"
     ]
    }
   ],
   "source": [
    "angle = int(input('Enter angle'))\n",
    "\n",
    "if angle< 90 and angle> 0:\n",
    "    print('The angle is acute')\n",
    "elif angle > 90 and angle< 180:\n",
    "    print('The angle is obtuse')\n",
    "elif angle == 0 or angle >= 180:\n",
    "    print('periodicity principle has to be taken to reduce angle')\n",
    "else:\n",
    "    print('The angle is right')\n",
    "\n",
    "    "
   ]
  },
  {
   "cell_type": "markdown",
   "id": "d0517e12-12d9-4319-a7dd-079409da89a8",
   "metadata": {},
   "source": [
    "17. Write a Python program to calculate the roots of a quadratic equation.\n"
   ]
  },
  {
   "cell_type": "code",
   "execution_count": 13,
   "id": "7ce92db6-a83e-459d-af0c-46baedfab681",
   "metadata": {},
   "outputs": [
    {
     "name": "stdin",
     "output_type": "stream",
     "text": [
      "Enter co_efficients of a quad_equation 1 7 10\n"
     ]
    },
    {
     "name": "stdout",
     "output_type": "stream",
     "text": [
      "Root 1: -2.0\n",
      "Root 2: -5.0\n"
     ]
    }
   ],
   "source": [
    "import math\n",
    "a,b,c = map(float, input('Enter co_efficients of a quad_equation').split())\n",
    "discriminant = b**2 - 4*a*c\n",
    "\n",
    "if discriminant > 0:\n",
    "    root1 = (-b + math.sqrt(discriminant)) / (2*a)\n",
    "    root2 = (-b - math.sqrt(discriminant)) / (2*a)\n",
    "    print(f\"Root 1: {root1}\")\n",
    "    print(f\"Root 2: {root2}\")\n",
    "elif discriminant == 0:\n",
    "    root = -b / (2*a)\n",
    "    print(f\"Root: {root}\")\n",
    "else:\n",
    "    real_part = -b / (2*a)\n",
    "    imaginary_part = math.sqrt(abs(discriminant)) / (2*a)\n",
    "    print(f\"Root 1: {real_part} + {imaginary_part}i\")\n",
    "    print(f\"Root 2: {real_part} - {imaginary_part}i\")"
   ]
  },
  {
   "cell_type": "markdown",
   "id": "8a75b1b8-38c9-41f4-abb4-41f4917b8e9f",
   "metadata": {},
   "source": [
    "18. Implement a program to determine the day of the week based on a user-provided number (1 for Monday, 2\n",
    "for Tuesday, etc.).\n"
   ]
  },
  {
   "cell_type": "code",
   "execution_count": 14,
   "id": "ec7c958a-2e47-4db9-bac7-3f52daee13e7",
   "metadata": {},
   "outputs": [
    {
     "name": "stdin",
     "output_type": "stream",
     "text": [
      "Enter a number (1-7) to determine the day of the week:  4\n"
     ]
    },
    {
     "name": "stdout",
     "output_type": "stream",
     "text": [
      "The day corresponding to 4 is Thursday.\n"
     ]
    }
   ],
   "source": [
    "days = {\n",
    "    1: \"Monday\",\n",
    "    2: \"Tuesday\",\n",
    "    3: \"Wednesday\",\n",
    "    4: \"Thursday\",\n",
    "    5: \"Friday\",\n",
    "    6: \"Saturday\",\n",
    "    7: \"Sunday\"\n",
    "}\n",
    "\n",
    "\n",
    "\n",
    "user_number = int(input(\"Enter a number (1-7) to determine the day of the week: \"))\n",
    "    \n",
    "\n",
    "if 1 <= user_number <= 7:\n",
    "    day = days[user_number]\n",
    "    print(f\"The day corresponding to {user_number} is {day}.\")\n",
    "else:\n",
    "    print(\"Invalid input. Please enter a number between 1 and 7.\")"
   ]
  },
  {
   "cell_type": "markdown",
   "id": "6d8630d5-2ed7-48d9-aa9d-3459d127c640",
   "metadata": {},
   "source": [
    "19. Create a program that determines if a year is a leap year and also if it is evenly divisible by 400.\n"
   ]
  },
  {
   "cell_type": "code",
   "execution_count": 15,
   "id": "ff2351ea-79e6-4b22-96f5-08371b06da58",
   "metadata": {},
   "outputs": [
    {
     "name": "stdin",
     "output_type": "stream",
     "text": [
      "Enter a year:  24\n"
     ]
    },
    {
     "name": "stdout",
     "output_type": "stream",
     "text": [
      "24 is a leap year.\n"
     ]
    }
   ],
   "source": [
    "year = int(input(\"Enter a year: \"))\n",
    "    \n",
    "if (year % 4 == 0 and year % 100 != 0) or (year % 400 == 0):\n",
    "    print(f\"{year} is a leap year.\")\n",
    "else:\n",
    "    print(f\"{year} is not a leap year.\")"
   ]
  },
  {
   "cell_type": "markdown",
   "id": "354cf3b5-06fe-444b-bd90-5198aef0f5e4",
   "metadata": {},
   "source": [
    "20. Develop a program that checks if a given number is prime or not using nested if-else statements."
   ]
  },
  {
   "cell_type": "code",
   "execution_count": 1,
   "id": "172ad561-5b48-4700-a7e3-ebe3ee5b8121",
   "metadata": {},
   "outputs": [
    {
     "name": "stdin",
     "output_type": "stream",
     "text": [
      "Enter a number:  11\n"
     ]
    },
    {
     "name": "stdout",
     "output_type": "stream",
     "text": [
      "11 is a prime number.\n"
     ]
    }
   ],
   "source": [
    "num = int(input(\"Enter a number: \"))\n",
    "    \n",
    "   \n",
    "if num < 2:\n",
    "    print(f\"{num} is not a prime number.\")\n",
    "else:\n",
    "    is_prime = True\n",
    "    for i in range(2, int(num**0.5) + 1):\n",
    "        if num % i == 0:\n",
    "            is_prime = False\n",
    "            break\n",
    "        \n",
    "        \n",
    "if is_prime:\n",
    "    print(f\"{num} is a prime number.\")\n",
    "else:\n",
    "    print(f\"{num} is not a prime number.\")"
   ]
  },
  {
   "cell_type": "markdown",
   "id": "03251e13-0b8d-4bfd-affa-0e071ecf333c",
   "metadata": {},
   "source": [
    "# Elif Statements:\n"
   ]
  },
  {
   "cell_type": "markdown",
   "id": "fe9c7f04-6780-4fe7-93f0-e7cd4e10b916",
   "metadata": {},
   "source": [
    "21. Write a Python program to assign grades based on different ranges of scores using elif statements.\n"
   ]
  },
  {
   "cell_type": "code",
   "execution_count": 3,
   "id": "84070c23-a02c-4c3f-898e-3f1c399d240e",
   "metadata": {},
   "outputs": [
    {
     "name": "stdin",
     "output_type": "stream",
     "text": [
      "Enter the score:  95\n"
     ]
    },
    {
     "name": "stdout",
     "output_type": "stream",
     "text": [
      "The grade for a score of 95.0 is A.\n"
     ]
    }
   ],
   "source": [
    "score = float(input(\"Enter the score: \"))\n",
    "    \n",
    "    \n",
    "if score >= 90:\n",
    "    grade = \"A\"\n",
    "elif score >= 80:\n",
    "    grade = \"B\"\n",
    "elif score >= 70:\n",
    "    grade = \"C\"\n",
    "elif score >= 60:\n",
    "    grade = \"D\"\n",
    "else:\n",
    "    grade = \"F\"\n",
    "    \n",
    "    \n",
    "print(f\"The grade for a score of {score} is {grade}.\")"
   ]
  },
  {
   "cell_type": "markdown",
   "id": "0a608b43-4fb2-4fc0-8dbf-4df269bf4294",
   "metadata": {},
   "source": [
    "22. Implement a program to determine the type of a triangle based on its angles.\n"
   ]
  },
  {
   "cell_type": "code",
   "execution_count": 4,
   "id": "f8cbe299-c594-4229-bb8f-eef9f222273c",
   "metadata": {},
   "outputs": [
    {
     "name": "stdin",
     "output_type": "stream",
     "text": [
      "Enter three angles 90 45 45\n"
     ]
    },
    {
     "name": "stdout",
     "output_type": "stream",
     "text": [
      "The triangle with angles 90, 45, and 45 is a Right Triangle.\n"
     ]
    }
   ],
   "source": [
    "angle1,angle2,angle3 = map(int,input('Enter three angles').split())\n",
    "\n",
    "if angle1 + angle2 + angle3 == 180:\n",
    "        \n",
    "        if angle1 < 90 and angle2 < 90 and angle3 < 90:\n",
    "            triangle_type = \"Acute Triangle\"\n",
    "        elif angle1 == 90 or angle2 == 90 or angle3 == 90:\n",
    "            triangle_type = \"Right Triangle\"\n",
    "        else:\n",
    "            triangle_type = \"Obtuse Triangle\"\n",
    "        print(f\"The triangle with angles {angle1}, {angle2}, and {angle3} is a {triangle_type}.\")\n",
    "else:\n",
    "    print(\"Invalid input. The sum of angles should be 180 degrees to form a valid triangle.\")"
   ]
  },
  {
   "cell_type": "markdown",
   "id": "e6363936-022a-4366-80bc-ba7d1f4813bf",
   "metadata": {},
   "source": [
    "23. Develop a program to categorize a given person's BMI into underweight, normal, overweight, or obese using\n",
    "elif statements.\n"
   ]
  },
  {
   "cell_type": "code",
   "execution_count": 6,
   "id": "30d7102a-1c61-4665-b2fa-e62d15780349",
   "metadata": {},
   "outputs": [
    {
     "name": "stdin",
     "output_type": "stream",
     "text": [
      "Enter your weight in kilograms:  12.25\n",
      "Enter your height in meters:  5\n"
     ]
    },
    {
     "name": "stdout",
     "output_type": "stream",
     "text": [
      "Your BMI is 0.49, and you are categorized as Underweight.\n"
     ]
    }
   ],
   "source": [
    "weight = float(input(\"Enter your weight in kilograms: \"))\n",
    "height = float(input(\"Enter your height in meters: \"))\n",
    "    \n",
    "    \n",
    "bmi = weight / (height * height)\n",
    "    \n",
    "    \n",
    "if bmi < 18.5:\n",
    "    category = \"Underweight\"\n",
    "elif 18.5 <= bmi < 24.9:\n",
    "    category = \"Normal\"\n",
    "elif 25 <= bmi < 29.9:\n",
    "    category = \"Overweight\"\n",
    "else:\n",
    "    category = \"Obese\"\n",
    "    \n",
    "    \n",
    "    \n",
    "print(f\"Your BMI is {bmi}, and you are categorized as {category}.\")\n"
   ]
  },
  {
   "cell_type": "markdown",
   "id": "86823b7a-8743-4bc2-91cb-dffefc1f7bb4",
   "metadata": {},
   "source": [
    "24. Create a program that determines whether a given number is positive, negative, or zero using elif\n",
    "statements.\n"
   ]
  },
  {
   "cell_type": "code",
   "execution_count": 7,
   "id": "10ee5b96-a115-412b-9dd1-050241d36a4b",
   "metadata": {},
   "outputs": [
    {
     "name": "stdin",
     "output_type": "stream",
     "text": [
      "Enter a number:  12.36\n"
     ]
    },
    {
     "name": "stdout",
     "output_type": "stream",
     "text": [
      "The number 12.36 is Positive.\n"
     ]
    }
   ],
   "source": [
    "num = float(input(\"Enter a number: \"))\n",
    "    \n",
    "    \n",
    "if num > 0:\n",
    "    category = \"Positive\"\n",
    "elif num < 0:\n",
    "    category = \"Negative\"\n",
    "else:\n",
    "    category = \"Zero\"\n",
    "    \n",
    "    \n",
    "print(f\"The number {num} is {category}.\")"
   ]
  },
  {
   "cell_type": "markdown",
   "id": "4cd11b51-1f74-4d7c-ab58-2e2588bdad0d",
   "metadata": {},
   "source": [
    "25. Write a Python script to determine the type of a character (uppercase, lowercase, or special) using elif\n",
    "statements.\n"
   ]
  },
  {
   "cell_type": "code",
   "execution_count": 12,
   "id": "81ef11a3-21be-45ce-add3-1f127a3b6a50",
   "metadata": {},
   "outputs": [
    {
     "name": "stdin",
     "output_type": "stream",
     "text": [
      "Enter a single character:  @\n"
     ]
    },
    {
     "name": "stdout",
     "output_type": "stream",
     "text": [
      "The character '@' is a Special character.\n"
     ]
    }
   ],
   "source": [
    " char = input(\"Enter a single character: \")\n",
    "\n",
    "    \n",
    "if len(char) == 1:\n",
    "    if char.isupper():\n",
    "        char_type = \"Uppercase\"\n",
    "    elif char.islower():\n",
    "        char_type = \"Lowercase\"\n",
    "    else:\n",
    "        char_type = \"Special character\"\n",
    "        \n",
    "    print(f\"The character '{char}' is a {char_type}.\")\n",
    "else:\n",
    "    print(\"Invalid input. Please enter a single character.\")"
   ]
  },
  {
   "cell_type": "markdown",
   "id": "5d3ec1de-5f28-45fc-9193-a4e197f16319",
   "metadata": {},
   "source": [
    "26. Implement a program to calculate the discounted price based on different purchase amounts using elif\n",
    "statements.\n"
   ]
  },
  {
   "cell_type": "code",
   "execution_count": 13,
   "id": "759d11e1-7eea-4040-b529-bde8a1060715",
   "metadata": {},
   "outputs": [
    {
     "name": "stdin",
     "output_type": "stream",
     "text": [
      "Enter the purchase amount:  500\n"
     ]
    },
    {
     "name": "stdout",
     "output_type": "stream",
     "text": [
      "Your discounted price is:400.0\n"
     ]
    }
   ],
   "source": [
    "purchase_amount = float(input(\"Enter the purchase amount: \"))\n",
    "\n",
    "discount_10 = 0.10  \n",
    "discount_20 = 0.20  \n",
    "\n",
    "    \n",
    "if purchase_amount < 100:\n",
    "    discounted_price = purchase_amount  # No discount\n",
    "elif 100 <= purchase_amount < 500:\n",
    "    discounted_price = purchase_amount - (purchase_amount * discount_10)\n",
    "else:\n",
    "    discounted_price = purchase_amount - (purchase_amount * discount_20)\n",
    "\n",
    "\n",
    "print(f\"Your discounted price is:{discounted_price:}\")"
   ]
  },
  {
   "cell_type": "markdown",
   "id": "9093ad0c-3a1d-4df2-8867-1448d8ac0f35",
   "metadata": {},
   "source": [
    "27. Develop a program to calculate the electricity bill based on different consumption slabs using elif\n",
    "statements.\n"
   ]
  },
  {
   "cell_type": "code",
   "execution_count": 14,
   "id": "4e50cc4d-15fa-4e4e-9905-6a75772d9bec",
   "metadata": {},
   "outputs": [
    {
     "name": "stdin",
     "output_type": "stream",
     "text": [
      "Enter the electricity consumption in kWh:  250\n"
     ]
    },
    {
     "name": "stdout",
     "output_type": "stream",
     "text": [
      "Your electricity bill for 250.0 kWh is: 32.5\n"
     ]
    }
   ],
   "source": [
    "consumption = float(input(\"Enter the electricity consumption in kWh: \"))\n",
    "\n",
    "    \n",
    "slab_1_limit = 100  \n",
    "slab_2_limit = 300  \n",
    "slab_3_limit = 500  \n",
    "slab_4_limit = 1000 \n",
    "\n",
    "rate_slab_1 = 0.10  \n",
    "rate_slab_2 = 0.15  \n",
    "rate_slab_3 = 0.20  \n",
    "rate_slab_4 = 0.25  \n",
    "\n",
    "\n",
    "if consumption <= slab_1_limit:\n",
    "    bill = consumption * rate_slab_1\n",
    "elif consumption <= slab_2_limit:\n",
    "    bill = (slab_1_limit * rate_slab_1) + ((consumption - slab_1_limit) * rate_slab_2)\n",
    "elif consumption <= slab_3_limit:\n",
    "    bill = (slab_1_limit * rate_slab_1) + (slab_2_limit * rate_slab_2) + ((consumption - slab_2_limit) * rate_slab_3)\n",
    "else:\n",
    "    bill = (slab_1_limit * rate_slab_1) + (slab_2_limit * rate_slab_2) + (slab_3_limit * rate_slab_3) + ((consumption - slab_3_limit) * rate_slab_4)\n",
    "\n",
    "\n",
    "print(f\"Your electricity bill for {consumption} kWh is: {bill}\")\n",
    "\n"
   ]
  },
  {
   "cell_type": "markdown",
   "id": "6b3decd4-efff-43ad-ac62-b4a7a349965c",
   "metadata": {},
   "source": [
    "28. Create a program to determine the type of quadrilateral based on its angles and sides using elif\n",
    "statements.\n"
   ]
  },
  {
   "cell_type": "code",
   "execution_count": null,
   "id": "8de39e3e-66b4-4f88-9129-5258717589ac",
   "metadata": {},
   "outputs": [],
   "source": [
    "angle2 = float(input(\"Enter the second angle in degrees: \"))\n",
    "angle3 = float(input(\"Enter the third angle in degrees: \"))\n",
    "angle4 = float(input(\"Enter the fourth angle in degrees: \"))\n",
    "side1 = float(input(\"Enter the length of the first side: \"))\n",
    "side2 = float(input(\"Enter the length of the second side: \"))\n",
    "side3 = float(input(\"Enter the length of the third side: \"))\n",
    "side4 = float(input(\"Enter the length of the fourth side: \"))\n",
    "    \n",
    "    \n",
    "if angle1 == angle2 == angle3 == angle4 == 90:\n",
    "    if side1 == side2 == side3 == side4:\n",
    "        quadrilateral_type = \"Square\"\n",
    "    elif side1 == side3 and side2 == side4:\n",
    "        quadrilateral_type = \"Rectangle\"\n",
    "    else:\n",
    "        quadrilateral_type = \"Quadrilateral\"\n",
    "elif angle1 == angle3 and angle2 == angle4:\n",
    "    if side1 == side2 and side3 == side4:\n",
    "        quadrilateral_type = \"Rhombus\"\n",
    "    else:\n",
    "        quadrilateral_type = \"Quadrilateral\"\n",
    "elif side1 == side2 == side3 == side4:\n",
    "    quadrilateral_type = \"Parallelogram\"\n",
    "else:\n",
    "    quadrilateral_type = \"Quadrilateral\"\n",
    "    \n",
    "    \n",
    "print(f\"The quadrilateral with angles {angle1}, {angle2}, {angle3}, and {angle4}, and sides {side1}, {side2}, {side3}, and {side4} is a {quadrilateral_type}.\")\n",
    "\n"
   ]
  },
  {
   "cell_type": "markdown",
   "id": "e2a20214-7268-49ed-a0fe-c213d6ba4b07",
   "metadata": {},
   "source": [
    "29. Write a Python script to determine the season based on a user-provided month using elif statements.\n"
   ]
  },
  {
   "cell_type": "code",
   "execution_count": 16,
   "id": "ebdc6303-4106-4eb9-91d4-4bf9cc3fbfd7",
   "metadata": {},
   "outputs": [
    {
     "name": "stdin",
     "output_type": "stream",
     "text": [
      "Enter a month (1-12):  10\n"
     ]
    },
    {
     "name": "stdout",
     "output_type": "stream",
     "text": [
      "The season for month 10 is Rainy.\n"
     ]
    }
   ],
   "source": [
    "month = int(input(\"Enter a month (1-12): \"))\n",
    "\n",
    "if 1 <= month <= 2 or month == 12:\n",
    "    season = \"Winter\"\n",
    "elif 3 <= month <= 5:\n",
    "    season = \"Spring\"\n",
    "elif 6 <= month <= 8:\n",
    "    season = \"Summer\"\n",
    "elif 9 <= month <= 11:\n",
    "    season = \"Rainy\"\n",
    "else:\n",
    "    season = \"Invalid Month\"\n",
    "\n",
    "print(f\"The season for month {month} is {season}.\")\n",
    "\n"
   ]
  },
  {
   "cell_type": "markdown",
   "id": "e48d5e34-4ae2-44b4-ad88-934d64f6b314",
   "metadata": {},
   "source": [
    "30. Implement a program to determine the type of a year (leap or common) and month (30 or 31 days) using\n",
    "elif statements."
   ]
  },
  {
   "cell_type": "code",
   "execution_count": 17,
   "id": "d3010b7c-6b20-43d5-bb58-93bba59ca8d0",
   "metadata": {},
   "outputs": [
    {
     "name": "stdin",
     "output_type": "stream",
     "text": [
      "Enter a year:  2025\n",
      "Enter a month (1-12):  8\n"
     ]
    },
    {
     "name": "stdout",
     "output_type": "stream",
     "text": [
      "The month 8 has 31 days.\n",
      "2025 is a common year.\n"
     ]
    }
   ],
   "source": [
    "year = int(input(\"Enter a year: \"))\n",
    "month = int(input(\"Enter a month (1-12): \"))\n",
    "\n",
    "    \n",
    "is_leap_year = (year % 4 == 0 and year % 100 != 0) or (year % 400 == 0)\n",
    "\n",
    "   \n",
    "if 1 <= month <= 12:\n",
    "    if month in {4, 6, 9, 11}:\n",
    "        days_in_month = 30\n",
    "    elif month == 2:\n",
    "        days_in_month = 29 if is_leap_year else 28\n",
    "    else:\n",
    "        days_in_month = 31\n",
    "else:\n",
    "    days_in_month = None\n",
    "\n",
    "    \n",
    "if days_in_month is not None:\n",
    "    print(f\"The month {month} has {days_in_month} days.\")\n",
    "    if is_leap_year:\n",
    "        print(f\"{year} is a leap year.\")\n",
    "    else:\n",
    "        print(f\"{year} is a common year.\")\n",
    "else:\n",
    "    print(\"Invalid input. Please enter a valid month (1-12).\")\n",
    "\n"
   ]
  },
  {
   "cell_type": "markdown",
   "id": "73985950-2d66-4314-bb2a-6af9409527e7",
   "metadata": {},
   "source": [
    "# Basic Level:\n",
    "\n"
   ]
  },
  {
   "cell_type": "markdown",
   "id": "eb83759d-d1a6-47d9-8b87-4065f39bd90a",
   "metadata": {},
   "source": [
    "1. Write a Python program that checks if a given number is positive, negative, or zero.\n"
   ]
  },
  {
   "cell_type": "code",
   "execution_count": 19,
   "id": "3ac3d894-1043-447e-aec8-5d6066446c12",
   "metadata": {},
   "outputs": [
    {
     "name": "stdin",
     "output_type": "stream",
     "text": [
      "Enter a number -36\n"
     ]
    },
    {
     "name": "stdout",
     "output_type": "stream",
     "text": [
      "The number is negative\n"
     ]
    }
   ],
   "source": [
    "number = int(input('Enter a number'))\n",
    "if number > 0:\n",
    "    print(\"The Number is positive\")\n",
    "elif number == 0:\n",
    "    print(\"The number is zero\")\n",
    "else:\n",
    "    print(\"The number is negative\")\n",
    "    "
   ]
  },
  {
   "cell_type": "markdown",
   "id": "6eec81f1-2a06-4ad4-886e-56afd3263581",
   "metadata": {},
   "source": [
    "2. Create a program to determine if a person is eligible to vote based on their age.\n"
   ]
  },
  {
   "cell_type": "code",
   "execution_count": 20,
   "id": "9040b80d-33cd-4b25-bf2d-8d85b194aff7",
   "metadata": {},
   "outputs": [
    {
     "name": "stdin",
     "output_type": "stream",
     "text": [
      " 15\n"
     ]
    },
    {
     "name": "stdout",
     "output_type": "stream",
     "text": [
      "Not eligible\n"
     ]
    }
   ],
   "source": [
    "age = int(input())\n",
    "\n",
    "if age >= 18:\n",
    "    print('Eligible to vote')\n",
    "else:\n",
    "    print('Not eligible')\n",
    "    "
   ]
  },
  {
   "cell_type": "markdown",
   "id": "288c44e7-209b-4368-9a90-015f2c4c64f6",
   "metadata": {},
   "source": [
    "3. Write a program to find the maximum of two given numbers using conditional statements.\n"
   ]
  },
  {
   "cell_type": "code",
   "execution_count": 21,
   "id": "3defcd8f-3c5b-46b1-96e0-7ba3e587f487",
   "metadata": {},
   "outputs": [
    {
     "name": "stdin",
     "output_type": "stream",
     "text": [
      "Enter two numbers 25 36\n"
     ]
    },
    {
     "name": "stdout",
     "output_type": "stream",
     "text": [
      "The 36 is greater than 25\n"
     ]
    }
   ],
   "source": [
    "num1,num2  = map(int, input(\"Enter two numbers\").split())\n",
    "\n",
    "if num1> num2:\n",
    "    print(f'The {num1} is greater than {num2}')\n",
    "else:\n",
    "    print(f'The {num2} is greater than {num1}')\n",
    "    "
   ]
  },
  {
   "cell_type": "markdown",
   "id": "882ab0d6-f08c-4846-bf0e-95b2f32b6dc7",
   "metadata": {},
   "source": [
    "4. Develop a program that calculates the grade of a student based on their exam score.\n"
   ]
  },
  {
   "cell_type": "code",
   "execution_count": 22,
   "id": "55abe44d-ce3d-432a-b2b9-64d851569c0f",
   "metadata": {},
   "outputs": [
    {
     "name": "stdin",
     "output_type": "stream",
     "text": [
      "Enter the score:  88\n"
     ]
    },
    {
     "name": "stdout",
     "output_type": "stream",
     "text": [
      "The grade for a score of 88.0 is B.\n"
     ]
    }
   ],
   "source": [
    "score = float(input(\"Enter the score: \"))\n",
    "    \n",
    "    \n",
    "if score >= 90:\n",
    "    grade = \"A\"\n",
    "elif score >= 80:\n",
    "    grade = \"B\"\n",
    "elif score >= 70:\n",
    "    grade = \"C\"\n",
    "elif score >= 60:\n",
    "    grade = \"D\"\n",
    "else:\n",
    "    grade = \"F\"\n",
    "    \n",
    "    \n",
    "print(f\"The grade for a score of {score} is {grade}.\")"
   ]
  },
  {
   "cell_type": "markdown",
   "id": "99744c16-a716-4f83-8f4b-e26bd288459c",
   "metadata": {},
   "source": [
    "5. Create a program that checks if a year is a leap year or not.\n"
   ]
  },
  {
   "cell_type": "code",
   "execution_count": 23,
   "id": "51f0d4ff-19f4-4d93-8bae-227827758f29",
   "metadata": {},
   "outputs": [
    {
     "name": "stdin",
     "output_type": "stream",
     "text": [
      "Enter year 2023\n"
     ]
    },
    {
     "name": "stdout",
     "output_type": "stream",
     "text": [
      "2023 is not a leap year\n"
     ]
    }
   ],
   "source": [
    "year  = int(input('Enter year'))\n",
    "\n",
    "if year%4 == 0:\n",
    "    print(f'{year} is a leap year')\n",
    "else:\n",
    "    print(f'{year} is not a leap year')"
   ]
  },
  {
   "cell_type": "markdown",
   "id": "621314b8-82db-4f5a-a201-11d21698b62b",
   "metadata": {},
   "source": [
    "6. Write a program to classify a triangle based on its sides' lengths.\n"
   ]
  },
  {
   "cell_type": "code",
   "execution_count": 24,
   "id": "530b0998-7401-4e86-9888-de988f5cbbd4",
   "metadata": {},
   "outputs": [
    {
     "name": "stdin",
     "output_type": "stream",
     "text": [
      "Enter three sides length of a triangle 7 24 25\n"
     ]
    },
    {
     "name": "stdout",
     "output_type": "stream",
     "text": [
      "The triangle is scalene\n"
     ]
    }
   ],
   "source": [
    "a,b,c = map(int, input(\"Enter three sides length of a triangle\").split())\n",
    "if b+a >a and c+a > b and a+b > c:\n",
    "    if a ==b==c:\n",
    "        print(\"The triangle is equilateral\")\n",
    "    elif (a==b and b!=c) or (b==c and c!=a) or (c==a and a!=b):\n",
    "        print(\"the triange is isosceles\")\n",
    "    else:\n",
    "        print('The triangle is scalene')\n",
    "else:\n",
    "    print('These length of sides Triangles non exist')"
   ]
  },
  {
   "cell_type": "markdown",
   "id": "2d1ba09a-098b-4ad8-aa0c-fb1b019c2ba5",
   "metadata": {},
   "source": [
    "7. Build a program that determines the largest of three given numbers.\n"
   ]
  },
  {
   "cell_type": "code",
   "execution_count": 25,
   "id": "28aa9e21-ab8f-467e-a075-f0f81355a091",
   "metadata": {},
   "outputs": [
    {
     "name": "stdin",
     "output_type": "stream",
     "text": [
      "Enter three numbers 20 25 26\n"
     ]
    },
    {
     "name": "stdout",
     "output_type": "stream",
     "text": [
      "26 is largest amoung 20,25,26\n"
     ]
    }
   ],
   "source": [
    "a,b,c = map(int, input('Enter three numbers').split())\n",
    "\n",
    "if a>b and a>c:\n",
    "    print(f'{a} is largest amoung {a},{b},{c}')\n",
    "elif b>a and b>c:\n",
    "    print(f'{b} is largest amoung {a},{b},{c}')\n",
    "else:\n",
    "    print(f'{c} is largest amoung {a},{b},{c}')\n",
    "    "
   ]
  },
  {
   "cell_type": "markdown",
   "id": "66fdce62-7d1e-4a17-a079-458aad65a692",
   "metadata": {},
   "source": [
    "8. Develop a program that checks whether a character is a vowel or a consonant.\n"
   ]
  },
  {
   "cell_type": "code",
   "execution_count": 26,
   "id": "0c69b6b0-acbe-4542-984e-fed0a9cc9c9c",
   "metadata": {},
   "outputs": [
    {
     "name": "stdin",
     "output_type": "stream",
     "text": [
      "Enter a character of string z\n"
     ]
    },
    {
     "name": "stdout",
     "output_type": "stream",
     "text": [
      "z is a consonant\n"
     ]
    }
   ],
   "source": [
    "char = input('Enter a character of string')\n",
    "vowel = ['a','e','i','o','u','A','E','I','O','U']\n",
    "\n",
    "if char in vowel:\n",
    "    print(f'{char} is a vowel')\n",
    "else:\n",
    "    print(f'{char} is a consonant')"
   ]
  },
  {
   "cell_type": "markdown",
   "id": "b9a113e4-7c2e-4f75-aaec-2790bc245996",
   "metadata": {},
   "source": [
    "9. Create a program to calculate the total cost of a shopping cart based on discounts.\n"
   ]
  },
  {
   "cell_type": "code",
   "execution_count": 30,
   "id": "7ecb8b96-4d67-4939-9def-293e06461c26",
   "metadata": {},
   "outputs": [
    {
     "name": "stdin",
     "output_type": "stream",
     "text": [
      "Enter the purchase amount:  1500\n"
     ]
    },
    {
     "name": "stdout",
     "output_type": "stream",
     "text": [
      "total_cost_after_discount:1200.0\n"
     ]
    }
   ],
   "source": [
    "purchase_amount = float(input(\"Enter the purchase amount: \"))\n",
    "\n",
    "discount_10 = 0.10  \n",
    "discount_20 = 0.20  \n",
    "\n",
    "    \n",
    "if purchase_amount < 100:\n",
    "    total_cost_after_disscount = purchase_amount \n",
    "elif 100 <= purchase_amount < 500:\n",
    "    total_cost_after_discount = purchase_amount - (purchase_amount * discount_10)\n",
    "else:\n",
    "     total_cost_after_discount = purchase_amount - (purchase_amount * discount_20)\n",
    "\n",
    "\n",
    "print(f\"total_cost_after_discount:{total_cost_after_discount}\")"
   ]
  },
  {
   "cell_type": "markdown",
   "id": "2f8b01b3-11f9-4c30-8352-507729ba0585",
   "metadata": {},
   "source": [
    "10. Write a program that checks if a given number is even or odd.\n",
    "\n"
   ]
  },
  {
   "cell_type": "code",
   "execution_count": 27,
   "id": "77aff608-6a13-4f1f-a45b-452d074ddb74",
   "metadata": {},
   "outputs": [
    {
     "name": "stdin",
     "output_type": "stream",
     "text": [
      " 25\n"
     ]
    },
    {
     "name": "stdout",
     "output_type": "stream",
     "text": [
      "The number is odd\n"
     ]
    }
   ],
   "source": [
    "number = int(input())\n",
    "\n",
    "if number%2==0:\n",
    "    print('The  number is even')\n",
    "else:\n",
    "    print('The number is odd')\n",
    "    "
   ]
  },
  {
   "cell_type": "markdown",
   "id": "84dad667-14e4-41c2-bf31-b795458cb20b",
   "metadata": {},
   "source": [
    "# Intermediate Level:"
   ]
  },
  {
   "cell_type": "markdown",
   "id": "ec607381-a70a-4eed-a0c9-73f4c05f6d8e",
   "metadata": {},
   "source": [
    "11. Write a program that calculates the roots of a quadratic equation .\n"
   ]
  },
  {
   "cell_type": "code",
   "execution_count": 31,
   "id": "c28698fb-9985-45d6-89f4-b1734dfa6d5d",
   "metadata": {},
   "outputs": [
    {
     "name": "stdin",
     "output_type": "stream",
     "text": [
      "Enter co_efficients of a quad_equation 1 -7 10\n"
     ]
    },
    {
     "name": "stdout",
     "output_type": "stream",
     "text": [
      "Root 1: 5.0\n",
      "Root 2: 2.0\n"
     ]
    }
   ],
   "source": [
    "import math\n",
    "a,b,c = map(float, input('Enter co_efficients of a quad_equation').split())\n",
    "discriminant = b**2 - 4*a*c\n",
    "\n",
    "if discriminant > 0:\n",
    "    root1 = (-b + math.sqrt(discriminant)) / (2*a)\n",
    "    root2 = (-b - math.sqrt(discriminant)) / (2*a)\n",
    "    print(f\"Root 1: {root1}\")\n",
    "    print(f\"Root 2: {root2}\")\n",
    "elif discriminant == 0:\n",
    "    root = -b / (2*a)\n",
    "    print(f\"Root: {root}\")\n",
    "else:\n",
    "    real_part = -b / (2*a)\n",
    "    imaginary_part = math.sqrt(abs(discriminant)) / (2*a)\n",
    "    print(f\"Root 1: {real_part} + {imaginary_part}i\")\n",
    "    print(f\"Root 2: {real_part} - {imaginary_part}i\")"
   ]
  },
  {
   "cell_type": "markdown",
   "id": "cc4c7718-301b-4195-b652-055597d2ce04",
   "metadata": {},
   "source": [
    "12. Create a program that determines the day of the week based on the day number (1-7).\n"
   ]
  },
  {
   "cell_type": "code",
   "execution_count": 32,
   "id": "f82f1a7f-dedd-4ba6-9a9f-3d4489912878",
   "metadata": {},
   "outputs": [
    {
     "name": "stdin",
     "output_type": "stream",
     "text": [
      "Enter a number (1-7) to determine the day of the week:  5\n"
     ]
    },
    {
     "name": "stdout",
     "output_type": "stream",
     "text": [
      "The day corresponding to 5 is Friday.\n"
     ]
    }
   ],
   "source": [
    "days = {\n",
    "    1: \"Monday\",\n",
    "    2: \"Tuesday\",\n",
    "    3: \"Wednesday\",\n",
    "    4: \"Thursday\",\n",
    "    5: \"Friday\",\n",
    "    6: \"Saturday\",\n",
    "    7: \"Sunday\"\n",
    "}\n",
    "\n",
    "\n",
    "\n",
    "user_number = int(input(\"Enter a number (1-7) to determine the day of the week: \"))\n",
    "    \n",
    "\n",
    "if 1 <= user_number <= 7:\n",
    "    day = days[user_number]\n",
    "    print(f\"The day corresponding to {user_number} is {day}.\")\n",
    "else:\n",
    "    print(\"Invalid input. Please enter a number between 1 and 7.\")"
   ]
  },
  {
   "cell_type": "markdown",
   "id": "a469a30f-f645-4e3d-b049-388de35ffb7e",
   "metadata": {},
   "source": [
    "13. Develop a program that calculates the factorial of a given number using recursion.\n"
   ]
  },
  {
   "cell_type": "code",
   "execution_count": 37,
   "id": "cca24c62-6ce6-45b6-9143-9ea1e049defb",
   "metadata": {},
   "outputs": [
    {
     "data": {
      "text/plain": [
       "3628800"
      ]
     },
     "execution_count": 37,
     "metadata": {},
     "output_type": "execute_result"
    }
   ],
   "source": [
    "def factorial(n):\n",
    "    if n ==1:\n",
    "        return n\n",
    "    else:\n",
    "        return n*factorial(n-1)\n",
    "\n",
    "factorial(10)"
   ]
  },
  {
   "cell_type": "markdown",
   "id": "10e313a8-8f12-4d22-80e5-944c43db590c",
   "metadata": {},
   "source": [
    "14. Write a program to find the largest among three numbers without using the `max()` function.\n"
   ]
  },
  {
   "cell_type": "code",
   "execution_count": 38,
   "id": "fa84a7e3-e8a7-44dc-bfd2-f7143d126794",
   "metadata": {},
   "outputs": [
    {
     "name": "stdin",
     "output_type": "stream",
     "text": [
      "Enter three numbers 25 26 27\n"
     ]
    },
    {
     "name": "stdout",
     "output_type": "stream",
     "text": [
      "27 is largest amoung 25,26,27\n"
     ]
    }
   ],
   "source": [
    "a,b,c = map(int, input('Enter three numbers').split())\n",
    "\n",
    "if a>b and a>c:\n",
    "    print(f'{a} is largest amoung {a},{b},{c}')\n",
    "elif b>a and b>c:\n",
    "    print(f'{b} is largest amoung {a},{b},{c}')\n",
    "else:\n",
    "    print(f'{c} is largest amoung {a},{b},{c}')"
   ]
  },
  {
   "cell_type": "markdown",
   "id": "3f64270f-158e-4ba2-9d78-b258ecf5ba85",
   "metadata": {},
   "source": [
    "15. Create a program that simulates a basic ATM transaction menu.\n"
   ]
  },
  {
   "cell_type": "code",
   "execution_count": 1,
   "id": "b7929951-1d6d-4599-be51-aa3d74815e74",
   "metadata": {},
   "outputs": [
    {
     "name": "stdout",
     "output_type": "stream",
     "text": [
      "1. Check Balance\n",
      "2. Deposit\n",
      "3. Withdraw\n",
      "4. Quit\n"
     ]
    },
    {
     "name": "stdin",
     "output_type": "stream",
     "text": [
      "Enter choice (1-4):  1\n"
     ]
    },
    {
     "name": "stdout",
     "output_type": "stream",
     "text": [
      "Balance: $1000\n",
      "1. Check Balance\n",
      "2. Deposit\n",
      "3. Withdraw\n",
      "4. Quit\n"
     ]
    },
    {
     "name": "stdin",
     "output_type": "stream",
     "text": [
      "Enter choice (1-4):  2\n",
      "Enter deposit amount: $ 500\n"
     ]
    },
    {
     "name": "stdout",
     "output_type": "stream",
     "text": [
      "Deposit successful. New balance: $1500.0\n",
      "1. Check Balance\n",
      "2. Deposit\n",
      "3. Withdraw\n",
      "4. Quit\n"
     ]
    },
    {
     "name": "stdin",
     "output_type": "stream",
     "text": [
      "Enter choice (1-4):  3\n",
      "Enter withdrawal amount: $ 250\n"
     ]
    },
    {
     "name": "stdout",
     "output_type": "stream",
     "text": [
      "Withdrawal successful. New balance: $1250.0\n",
      "1. Check Balance\n",
      "2. Deposit\n",
      "3. Withdraw\n",
      "4. Quit\n"
     ]
    },
    {
     "name": "stdin",
     "output_type": "stream",
     "text": [
      "Enter choice (1-4):  4\n"
     ]
    },
    {
     "name": "stdout",
     "output_type": "stream",
     "text": [
      "Thank you for using the ATM. Goodbye!\n"
     ]
    }
   ],
   "source": [
    "def display_menu():\n",
    "    print(\"1. Check Balance\")\n",
    "    print(\"2. Deposit\")\n",
    "    print(\"3. Withdraw\")\n",
    "    print(\"4. Quit\")\n",
    "\n",
    "\n",
    "def main():\n",
    "    balance = 1000  # Initial balance\n",
    "\n",
    "    while True:\n",
    "        display_menu()\n",
    "        choice = input(\"Enter choice (1-4): \")\n",
    "\n",
    "        if choice == '1':\n",
    "            print(\"Balance: ${}\".format(balance))\n",
    "        elif choice == '2':\n",
    "            amount = float(input(\"Enter deposit amount: $\"))\n",
    "            balance += amount\n",
    "            print(\"Deposit successful. New balance: ${}\".format(balance))\n",
    "        elif choice == '3':\n",
    "            amount = float(input(\"Enter withdrawal amount: $\"))\n",
    "            if amount > balance:\n",
    "                print(\"Insufficient funds. Withdrawal failed.\")\n",
    "            else:\n",
    "                balance -= amount\n",
    "                print(\"Withdrawal successful. New balance: ${}\".format(balance))\n",
    "        elif choice == '4':\n",
    "            print(\"Thank you for using the ATM. Goodbye!\")\n",
    "            break\n",
    "        else:\n",
    "            print(\"Invalid choice. Please enter a number between 1 and 4.\")\n",
    "\n",
    "\n",
    "if __name__ == \"__main__\":\n",
    "    main()\n"
   ]
  },
  {
   "cell_type": "markdown",
   "id": "97a55413-70a7-4d21-9633-ff7f4014151c",
   "metadata": {},
   "source": [
    "16. Build a program that checks if a given string is a palindrome or not.\n"
   ]
  },
  {
   "cell_type": "code",
   "execution_count": 39,
   "id": "9262501c-9af8-4f2d-923e-ccc86d9cad40",
   "metadata": {},
   "outputs": [
    {
     "name": "stdin",
     "output_type": "stream",
     "text": [
      "Enter string aga\n"
     ]
    },
    {
     "name": "stdout",
     "output_type": "stream",
     "text": [
      "The string is palindrome\n"
     ]
    }
   ],
   "source": [
    "string  =  input('Enter string')\n",
    "\n",
    "if string[::]==string[::-1]:\n",
    "    print('The string is palindrome')\n",
    "else:\n",
    "    print('The string is not a palindrome')"
   ]
  },
  {
   "cell_type": "markdown",
   "id": "25122f6a-7c09-44ff-97d4-e50e3e15ff3b",
   "metadata": {},
   "source": [
    "17. Write a program that calculates the average of a list of numbers, excluding the smallest and largest values.\n"
   ]
  },
  {
   "cell_type": "code",
   "execution_count": 43,
   "id": "d5bad980-d503-4278-aadf-076892740ec1",
   "metadata": {},
   "outputs": [
    {
     "name": "stdout",
     "output_type": "stream",
     "text": [
      "38\n"
     ]
    }
   ],
   "source": [
    "list_numbers = [5,8,9,10,11,12]\n",
    "list_numbers.sort()\n",
    "summation = 0\n",
    "for i in range(1,len(list_numbers)-1):\n",
    "    summation+=list_numbers[i]\n",
    "print(summation)"
   ]
  },
  {
   "cell_type": "markdown",
   "id": "b5413c6d-9875-4caf-866a-28c6f817b147",
   "metadata": {},
   "source": [
    "18. Develop a program that converts a given temperature from Celsius to Fahrenheit.\n"
   ]
  },
  {
   "cell_type": "code",
   "execution_count": 44,
   "id": "69c5598b-ff8a-4110-8d9d-9ce78d818772",
   "metadata": {},
   "outputs": [
    {
     "name": "stdin",
     "output_type": "stream",
     "text": [
      "Enter the Temperature Value in Celsius 25\n"
     ]
    },
    {
     "name": "stdout",
     "output_type": "stream",
     "text": [
      "25.0 degree Celsius is equals to 77.0 degree fahrenheit\n"
     ]
    }
   ],
   "source": [
    "celsius = float(input(\"Enter the Temperature Value in Celsius\"))\n",
    "Fahrenheit = (9*celsius)/5 + 32\n",
    "\n",
    "print(\"{} degree Celsius is equals to {} degree fahrenheit\".format(celsius,Fahrenheit))"
   ]
  },
  {
   "cell_type": "markdown",
   "id": "d02e45c7-617e-4343-a0bf-06917d50de8d",
   "metadata": {},
   "source": [
    "19. Create a program that simulates a basic calculator for addition, subtraction, multiplication, and division.\n"
   ]
  },
  {
   "cell_type": "code",
   "execution_count": 2,
   "id": "b48da8b9-7d67-4fd1-bcb5-e2ff955eebde",
   "metadata": {},
   "outputs": [
    {
     "name": "stdout",
     "output_type": "stream",
     "text": [
      "Select operation:\n",
      "1. Addition\n",
      "2. Subtraction\n",
      "3. Multiplication\n",
      "4. Division\n",
      "5. Quit\n"
     ]
    },
    {
     "name": "stdin",
     "output_type": "stream",
     "text": [
      "Enter choice (1-5):  4\n",
      "Enter first number:  25\n",
      "Enter second number:  5\n"
     ]
    },
    {
     "name": "stdout",
     "output_type": "stream",
     "text": [
      "Result: 5.0\n",
      "Select operation:\n",
      "1. Addition\n",
      "2. Subtraction\n",
      "3. Multiplication\n",
      "4. Division\n",
      "5. Quit\n"
     ]
    },
    {
     "name": "stdin",
     "output_type": "stream",
     "text": [
      "Enter choice (1-5):  5\n"
     ]
    },
    {
     "name": "stdout",
     "output_type": "stream",
     "text": [
      "Calculator exiting. Goodbye!\n"
     ]
    }
   ],
   "source": [
    "def add(x, y):\n",
    "    return x + y\n",
    "\n",
    "def subtract(x, y):\n",
    "    return x - y\n",
    "\n",
    "def multiply(x, y):\n",
    "    return x * y\n",
    "\n",
    "def divide(x, y):\n",
    "    if y != 0:\n",
    "        return x / y\n",
    "    else:\n",
    "        return \"Error: Division by zero\"\n",
    "\n",
    "\n",
    "def display_menu():\n",
    "    print(\"Select operation:\")\n",
    "    print(\"1. Addition\")\n",
    "    print(\"2. Subtraction\")\n",
    "    print(\"3. Multiplication\")\n",
    "    print(\"4. Division\")\n",
    "    print(\"5. Quit\")\n",
    "\n",
    "\n",
    "def calculator():\n",
    "    while True:\n",
    "        display_menu()\n",
    "        choice = input(\"Enter choice (1-5): \")\n",
    "\n",
    "        if choice == '5':\n",
    "            print(\"Calculator exiting. Goodbye!\")\n",
    "            break\n",
    "\n",
    "        num1 = float(input(\"Enter first number: \"))\n",
    "        num2 = float(input(\"Enter second number: \"))\n",
    "\n",
    "        if choice == '1':\n",
    "            result = add(num1, num2)\n",
    "        elif choice == '2':\n",
    "            result = subtract(num1, num2)\n",
    "        elif choice == '3':\n",
    "            result = multiply(num1, num2)\n",
    "        elif choice == '4':\n",
    "            result = divide(num1, num2)\n",
    "        else:\n",
    "            print(\"Invalid choice. Please enter a number between 1 and 5.\")\n",
    "            continue\n",
    "\n",
    "        print(\"Result: {}\".format(result))\n",
    "\n",
    "\n",
    "if __name__ == \"__main__\":\n",
    "    calculator()\n"
   ]
  },
  {
   "cell_type": "markdown",
   "id": "d6d296a7-0ac6-4195-bcee-e6674922885e",
   "metadata": {},
   "source": [
    "20. Write a program that determines the roots of a cubic equation using the Cardano formula."
   ]
  },
  {
   "cell_type": "code",
   "execution_count": 5,
   "id": "fe2e5002-46ea-4833-9eb8-826bafce9b48",
   "metadata": {},
   "outputs": [
    {
     "name": "stdin",
     "output_type": "stream",
     "text": [
      "enter coeff of x^3 : 25\n",
      "Enter coeff of x^2 : 323\n",
      "Enter coeff of x : 21\n",
      "Enter the value of d : 6573\n"
     ]
    },
    {
     "name": "stdout",
     "output_type": "stream",
     "text": [
      "Root 1: (-14.170131086185611+0j)\n",
      "Root 2: (0.6250655430928028-4.261902677561253j)\n",
      "Root 3: (0.6250655430928089+4.2619026775612525j)\n"
     ]
    }
   ],
   "source": [
    "import cmath\n",
    "\n",
    "def cubic_roots(a, b, c, d):\n",
    "    # Discriminant\n",
    "    delta_0 = b**2 - 3*a*c\n",
    "    delta_1 = 2*b**3 - 9*a*b*c + 27*a**2*d\n",
    "\n",
    "    # Calculate roots\n",
    "    C = ((delta_1 + cmath.sqrt(delta_1**2 - 4*delta_0**3)) / 2) ** (1/3)\n",
    "    root_1 = -(1/(3*a)) * (b + C + delta_0 / C)\n",
    "    root_2 = -(1/(3*a)) * (b + cmath.exp(2j * cmath.pi/3) * C + delta_0 / (C * cmath.exp(2j * cmath.pi/3)))\n",
    "    root_3 = -(1/(3*a)) * (b + cmath.exp(4j * cmath.pi/3) * C + delta_0 / (C * cmath.exp(4j * cmath.pi/3)))\n",
    "\n",
    "    return root_1, root_2, root_3\n",
    "\n",
    "def main():\n",
    "    # Example coefficients (you can change these)\n",
    "    a = int(input(\"enter coeff of x^3 :\"))\n",
    "    b = int(input(\"Enter coeff of x^2 :\"))\n",
    "    c = int(input(\"Enter coeff of x :\"))\n",
    "    d = int(input(\"Enter the value of d :\"))\n",
    "\n",
    "    roots = cubic_roots(a, b, c, d)\n",
    "\n",
    "    print(\"Root 1:\", roots[0])\n",
    "    print(\"Root 2:\", roots[1])\n",
    "    print(\"Root 3:\", roots[2])\n",
    "\n",
    "if __name__ == \"__main__\":\n",
    "    main()\n"
   ]
  },
  {
   "cell_type": "markdown",
   "id": "a250850f-3002-4701-b3ad-d261f6ddb2a0",
   "metadata": {},
   "source": [
    "# Advanced Level:\n"
   ]
  },
  {
   "cell_type": "markdown",
   "id": "e18cf50b-3bba-438b-9d43-9193d07ca25e",
   "metadata": {},
   "source": [
    "21. Create a program that calculates the income tax based on the user's income and tax brackets.\n"
   ]
  },
  {
   "cell_type": "code",
   "execution_count": 1,
   "id": "9acc2b43-2981-4623-945d-04e06bb8aabb",
   "metadata": {},
   "outputs": [
    {
     "name": "stdin",
     "output_type": "stream",
     "text": [
      "Enter your annual income:  5000\n"
     ]
    },
    {
     "name": "stdout",
     "output_type": "stream",
     "text": [
      "Your income tax is: $500.00\n"
     ]
    }
   ],
   "source": [
    "def calculate_income_tax(income):\n",
    "    # Define tax brackets and rates\n",
    "    brackets = [10000, 30000, 70000, float('inf')]\n",
    "    rates = [0.1, 0.2, 0.3, 0.4]\n",
    "\n",
    "    # Calculate tax\n",
    "    tax = 0\n",
    "    for i in range(len(brackets)):\n",
    "        if income <= brackets[i]:\n",
    "            tax += income * rates[i]\n",
    "            break\n",
    "        else:\n",
    "            tax += brackets[i] * rates[i]\n",
    "            income -= brackets[i]\n",
    "\n",
    "    return tax\n",
    "\n",
    "def main():\n",
    "    # Get user input\n",
    "    try:\n",
    "        income = float(input(\"Enter your annual income: \"))\n",
    "    except ValueError:\n",
    "        print(\"Invalid input. Please enter a numerical value.\")\n",
    "        return\n",
    "\n",
    "    # Check if income is non-negative\n",
    "    if income < 0:\n",
    "        print(\"Invalid input. Income cannot be negative.\")\n",
    "        return\n",
    "\n",
    "    # Calculate and display income tax\n",
    "    income_tax = calculate_income_tax(income)\n",
    "    print(f\"Your income tax is: ${income_tax:.2f}\")\n",
    "\n",
    "if __name__ == \"__main__\":\n",
    "    main()\n"
   ]
  },
  {
   "cell_type": "markdown",
   "id": "b5163ed8-4401-4648-b994-714ac5dee394",
   "metadata": {},
   "source": [
    "22. Write a program that simulates a rock-paper-scissors game against the computer.\n"
   ]
  },
  {
   "cell_type": "code",
   "execution_count": 2,
   "id": "040ccb97-5e2e-4de1-b93e-9cba17ac646d",
   "metadata": {},
   "outputs": [
    {
     "name": "stdout",
     "output_type": "stream",
     "text": [
      "Enter your choice: rock, paper, or scissors\n"
     ]
    },
    {
     "name": "stdin",
     "output_type": "stream",
     "text": [
      " rock\n"
     ]
    },
    {
     "name": "stdout",
     "output_type": "stream",
     "text": [
      "You chose: rock\n",
      "Computer chose: rock\n",
      "It's a tie!\n"
     ]
    }
   ],
   "source": [
    "import random\n",
    "\n",
    "def get_user_choice():\n",
    "    print(\"Enter your choice: rock, paper, or scissors\")\n",
    "    user_choice = input().lower()\n",
    "    return user_choice\n",
    "\n",
    "def get_computer_choice():\n",
    "    choices = [\"rock\", \"paper\", \"scissors\"]\n",
    "    computer_choice = random.choice(choices)\n",
    "    return computer_choice\n",
    "\n",
    "def determine_winner(user_choice, computer_choice):\n",
    "    if user_choice == computer_choice:\n",
    "        return \"It's a tie!\"\n",
    "    elif (\n",
    "        (user_choice == \"rock\" and computer_choice == \"scissors\") or\n",
    "        (user_choice == \"paper\" and computer_choice == \"rock\") or\n",
    "        (user_choice == \"scissors\" and computer_choice == \"paper\")\n",
    "    ):\n",
    "        return \"You win!\"\n",
    "    else:\n",
    "        return \"You lose!\"\n",
    "\n",
    "def main():\n",
    "    user_choice = get_user_choice()\n",
    "    computer_choice = get_computer_choice()\n",
    "\n",
    "    print(f\"You chose: {user_choice}\")\n",
    "    print(f\"Computer chose: {computer_choice}\")\n",
    "\n",
    "    result = determine_winner(user_choice, computer_choice)\n",
    "    print(result)\n",
    "\n",
    "if __name__ == \"__main__\":\n",
    "    main()\n"
   ]
  },
  {
   "cell_type": "markdown",
   "id": "18f37c9e-35f0-4b17-9056-d4bac915f728",
   "metadata": {},
   "source": [
    "23. Develop a program that generates a random password based on user preferences (length, complexity).\n"
   ]
  },
  {
   "cell_type": "code",
   "execution_count": 3,
   "id": "cb7fa1e3-1e72-4ab9-9ce8-3cc1b5aef904",
   "metadata": {},
   "outputs": [
    {
     "name": "stdout",
     "output_type": "stream",
     "text": [
      "Welcome to the Random Password Generator!\n"
     ]
    },
    {
     "name": "stdin",
     "output_type": "stream",
     "text": [
      "Enter the desired password length:  8\n",
      "Include uppercase letters? (yes/no):  yes\n",
      "Include digits? (yes/no):  yes\n",
      "Include special characters? (yes/no):  no\n"
     ]
    },
    {
     "name": "stdout",
     "output_type": "stream",
     "text": [
      "Your generated password is: WzJw2sN3\n"
     ]
    }
   ],
   "source": [
    "import random\n",
    "import string\n",
    "\n",
    "def generate_password(length, use_uppercase, use_digits, use_special_chars):\n",
    "    characters = string.ascii_lowercase\n",
    "\n",
    "    if use_uppercase:\n",
    "        characters += string.ascii_uppercase\n",
    "    if use_digits:\n",
    "        characters += string.digits\n",
    "    if use_special_chars:\n",
    "        characters += string.punctuation\n",
    "\n",
    "    password = ''.join(random.choice(characters) for _ in range(length))\n",
    "    return password\n",
    "\n",
    "def main():\n",
    "    print(\"Welcome to the Random Password Generator!\")\n",
    "\n",
    "    # Get user preferences\n",
    "    try:\n",
    "        length = int(input(\"Enter the desired password length: \"))\n",
    "        use_uppercase = input(\"Include uppercase letters? (yes/no): \").lower() == \"yes\"\n",
    "        use_digits = input(\"Include digits? (yes/no): \").lower() == \"yes\"\n",
    "        use_special_chars = input(\"Include special characters? (yes/no): \").lower() == \"yes\"\n",
    "    except ValueError:\n",
    "        print(\"Invalid input. Please enter a valid numerical value for the password length.\")\n",
    "        return\n",
    "\n",
    "    # Generate and display the password\n",
    "    password = generate_password(length, use_uppercase, use_digits, use_special_chars)\n",
    "    print(f\"Your generated password is: {password}\")\n",
    "\n",
    "if __name__ == \"__main__\":\n",
    "    main()\n"
   ]
  },
  {
   "cell_type": "markdown",
   "id": "11514355-e6dd-4e18-87b4-e2b8712c9758",
   "metadata": {},
   "source": [
    "24. Create a program that implements a simple text-based adventure game with branching scenarios.\n"
   ]
  },
  {
   "cell_type": "code",
   "execution_count": 4,
   "id": "607a2830-ec4e-4e63-bc03-5ae51c2080c6",
   "metadata": {},
   "outputs": [
    {
     "name": "stdout",
     "output_type": "stream",
     "text": [
      "Welcome to the Text-Based Adventure Game!\n",
      "You find yourself at a crossroads. What will you do?\n",
      "\n",
      "Options:\n",
      "1. Go left\n",
      "2. Go right\n",
      "3. Stay put\n"
     ]
    },
    {
     "name": "stdin",
     "output_type": "stream",
     "text": [
      "Enter your choice (1, 2, or 3):  1\n"
     ]
    },
    {
     "name": "stdout",
     "output_type": "stream",
     "text": [
      "\n",
      "You chose to go left. You encounter a dark forest.\n",
      "Options:\n",
      "1. Explore the forest\n",
      "2. Turn back\n"
     ]
    },
    {
     "name": "stdin",
     "output_type": "stream",
     "text": [
      "Enter your choice (1 or 2):  1\n"
     ]
    },
    {
     "name": "stdout",
     "output_type": "stream",
     "text": [
      "You discover a hidden treasure in the forest. Congratulations, you win!\n",
      "\n",
      "Options:\n",
      "1. Go left\n",
      "2. Go right\n",
      "3. Stay put\n"
     ]
    },
    {
     "name": "stdin",
     "output_type": "stream",
     "text": [
      "Enter your choice (1, 2, or 3):  3\n"
     ]
    },
    {
     "name": "stdout",
     "output_type": "stream",
     "text": [
      "You decide to stay put. Nothing eventful happens.\n"
     ]
    }
   ],
   "source": [
    "def start_game():\n",
    "    print(\"Welcome to the Text-Based Adventure Game!\")\n",
    "    print(\"You find yourself at a crossroads. What will you do?\")\n",
    "\n",
    "    while True:\n",
    "        print(\"\\nOptions:\")\n",
    "        print(\"1. Go left\")\n",
    "        print(\"2. Go right\")\n",
    "        print(\"3. Stay put\")\n",
    "\n",
    "        choice = input(\"Enter your choice (1, 2, or 3): \")\n",
    "\n",
    "        if choice == \"1\":\n",
    "            left_path()\n",
    "        elif choice == \"2\":\n",
    "            right_path()\n",
    "        elif choice == \"3\":\n",
    "            print(\"You decide to stay put. Nothing eventful happens.\")\n",
    "            break\n",
    "        else:\n",
    "            print(\"Invalid choice. Please enter 1, 2, or 3.\")\n",
    "\n",
    "def left_path():\n",
    "    print(\"\\nYou chose to go left. You encounter a dark forest.\")\n",
    "    print(\"Options:\")\n",
    "    print(\"1. Explore the forest\")\n",
    "    print(\"2. Turn back\")\n",
    "\n",
    "    choice = input(\"Enter your choice (1 or 2): \")\n",
    "\n",
    "    if choice == \"1\":\n",
    "        print(\"You discover a hidden treasure in the forest. Congratulations, you win!\")\n",
    "    elif choice == \"2\":\n",
    "        print(\"You decide to turn back. You return to the crossroads.\")\n",
    "    else:\n",
    "        print(\"Invalid choice. Please enter 1 or 2.\")\n",
    "\n",
    "def right_path():\n",
    "    print(\"\\nYou chose to go right. You come across a mountain.\")\n",
    "    print(\"Options:\")\n",
    "    print(\"1. Climb the mountain\")\n",
    "    print(\"2. Go around the mountain\")\n",
    "\n",
    "    choice = input(\"Enter your choice (1 or 2): \")\n",
    "\n",
    "    if choice == \"1\":\n",
    "        print(\"You successfully climb the mountain and enjoy a breathtaking view.\")\n",
    "    elif choice == \"2\":\n",
    "        print(\"You go around the mountain and encounter a friendly village.\")\n",
    "        print(\"The villagers invite you to stay. You have a pleasant time.\")\n",
    "    else:\n",
    "        print(\"Invalid choice. Please enter 1 or 2.\")\n",
    "\n",
    "if __name__ == \"__main__\":\n",
    "    start_game()\n"
   ]
  },
  {
   "cell_type": "markdown",
   "id": "eda0286b-c169-46fb-82bd-19d657d74b03",
   "metadata": {},
   "source": [
    "25. Build a program that solves a linear equation for x, considering different cases.\n"
   ]
  },
  {
   "cell_type": "code",
   "execution_count": 5,
   "id": "3a15ec9c-2737-4b35-9de1-ce3530aa8224",
   "metadata": {},
   "outputs": [
    {
     "name": "stdout",
     "output_type": "stream",
     "text": [
      "Enter coefficients for a linear equation ax + b = 0:\n"
     ]
    },
    {
     "name": "stdin",
     "output_type": "stream",
     "text": [
      "Enter the value of a:  2\n",
      "Enter the value of b:  8\n"
     ]
    },
    {
     "name": "stdout",
     "output_type": "stream",
     "text": [
      "The solution to the equation 2.0x + 8.0 = 0 is x = -4.00.\n"
     ]
    }
   ],
   "source": [
    "def solve_linear_equation(a, b):\n",
    "    if a == 0 and b == 0:\n",
    "        print(\"The equation has infinitely many solutions.\")\n",
    "    elif a == 0:\n",
    "        print(\"The equation has no solution.\")\n",
    "    else:\n",
    "        x = -b / a\n",
    "        print(f\"The solution to the equation {a}x + {b} = 0 is x = {x:.2f}.\")\n",
    "\n",
    "def main():\n",
    "    print(\"Enter coefficients for a linear equation ax + b = 0:\")\n",
    "    try:\n",
    "        a = float(input(\"Enter the value of a: \"))\n",
    "        b = float(input(\"Enter the value of b: \"))\n",
    "    except ValueError:\n",
    "        print(\"Invalid input. Please enter numerical values for coefficients.\")\n",
    "        return\n",
    "\n",
    "    solve_linear_equation(a, b)\n",
    "\n",
    "if __name__ == \"__main__\":\n",
    "    main()\n"
   ]
  },
  {
   "cell_type": "markdown",
   "id": "f65687eb-191d-43fc-9db8-09c506c3c28c",
   "metadata": {},
   "source": [
    "26. Write a program that simulates a basic quiz game with multiple-choice questions and scoring.\n"
   ]
  },
  {
   "cell_type": "code",
   "execution_count": 6,
   "id": "369adf90-7bdc-47af-af23-ec29053f7a60",
   "metadata": {},
   "outputs": [
    {
     "name": "stdout",
     "output_type": "stream",
     "text": [
      "Welcome to the Quiz Game!\n",
      "\n",
      "What is the capital of France?\n",
      "1. Paris\n",
      "2. Berlin\n",
      "3. London\n"
     ]
    },
    {
     "name": "stdin",
     "output_type": "stream",
     "text": [
      "Enter the number of your answer:  1\n"
     ]
    },
    {
     "name": "stdout",
     "output_type": "stream",
     "text": [
      "Correct!\n",
      "\n",
      "Which planet is known as the Red Planet?\n",
      "1. Mars\n",
      "2. Venus\n",
      "3. Jupiter\n"
     ]
    },
    {
     "name": "stdin",
     "output_type": "stream",
     "text": [
      "Enter the number of your answer:  1\n"
     ]
    },
    {
     "name": "stdout",
     "output_type": "stream",
     "text": [
      "Correct!\n",
      "\n",
      "What is the largest mammal?\n",
      "1. Elephant\n",
      "2. Blue Whale\n",
      "3. Giraffe\n"
     ]
    },
    {
     "name": "stdin",
     "output_type": "stream",
     "text": [
      "Enter the number of your answer:  2\n"
     ]
    },
    {
     "name": "stdout",
     "output_type": "stream",
     "text": [
      "Correct!\n",
      "\n",
      "You scored 3/3.\n"
     ]
    }
   ],
   "source": [
    "def display_question(question, choices):\n",
    "    print(question)\n",
    "    for i, choice in enumerate(choices, start=1):\n",
    "        print(f\"{i}. {choice}\")\n",
    "\n",
    "def get_user_answer():\n",
    "    while True:\n",
    "        try:\n",
    "            user_answer = int(input(\"Enter the number of your answer: \"))\n",
    "            return user_answer\n",
    "        except ValueError:\n",
    "            print(\"Invalid input. Please enter a number.\")\n",
    "\n",
    "def check_answer(user_answer, correct_answer):\n",
    "    return user_answer == correct_answer\n",
    "\n",
    "def run_quiz(questions):\n",
    "    score = 0\n",
    "    for question, choices, correct_answer in questions:\n",
    "        display_question(question, choices)\n",
    "        user_answer = get_user_answer()\n",
    "        if check_answer(user_answer, correct_answer):\n",
    "            print(\"Correct!\\n\")\n",
    "            score += 1\n",
    "        else:\n",
    "            print(f\"Wrong! The correct answer was {correct_answer}.\\n\")\n",
    "\n",
    "    print(f\"You scored {score}/{len(questions)}.\")\n",
    "\n",
    "if __name__ == \"__main__\":\n",
    "    quiz_questions = [\n",
    "        (\"What is the capital of France?\", [\"Paris\", \"Berlin\", \"London\"], 1),\n",
    "        (\"Which planet is known as the Red Planet?\", [\"Mars\", \"Venus\", \"Jupiter\"], 1),\n",
    "        (\"What is the largest mammal?\", [\"Elephant\", \"Blue Whale\", \"Giraffe\"], 2),\n",
    "    ]\n",
    "\n",
    "    print(\"Welcome to the Quiz Game!\\n\")\n",
    "    run_quiz(quiz_questions)\n"
   ]
  },
  {
   "cell_type": "markdown",
   "id": "bb68b2ca-3a4e-4552-a670-fca34411490d",
   "metadata": {},
   "source": [
    "27. Develop a program that determines whether a given year is a prime number or not.\n"
   ]
  },
  {
   "cell_type": "code",
   "execution_count": 7,
   "id": "410935f6-f845-4313-aa9e-f19e9edb4925",
   "metadata": {},
   "outputs": [
    {
     "name": "stdin",
     "output_type": "stream",
     "text": [
      "Enter a year to check if it's a prime number:  2023\n"
     ]
    },
    {
     "name": "stdout",
     "output_type": "stream",
     "text": [
      "2023 is not a prime number.\n"
     ]
    }
   ],
   "source": [
    "def is_prime(year):\n",
    "    if year < 2:\n",
    "        return False\n",
    "    for i in range(2, int(year**0.5) + 1):\n",
    "        if year % i == 0:\n",
    "            return False\n",
    "    return True\n",
    "\n",
    "def main():\n",
    "    try:\n",
    "        year = int(input(\"Enter a year to check if it's a prime number: \"))\n",
    "    except ValueError:\n",
    "        print(\"Invalid input. Please enter a valid numerical value.\")\n",
    "        return\n",
    "\n",
    "    if is_prime(year):\n",
    "        print(f\"{year} is a prime number.\")\n",
    "    else:\n",
    "        print(f\"{year} is not a prime number.\")\n",
    "\n",
    "if __name__ == \"__main__\":\n",
    "    main()"
   ]
  },
  {
   "cell_type": "markdown",
   "id": "1a3c243f-e585-4b8a-a6fa-d786ddd2429c",
   "metadata": {},
   "source": [
    "28. Create a program that sorts three numbers in ascending order using conditional statements.\n"
   ]
  },
  {
   "cell_type": "code",
   "execution_count": 8,
   "id": "f2b068c2-1959-4e20-9874-0c0713c844ee",
   "metadata": {},
   "outputs": [
    {
     "name": "stdin",
     "output_type": "stream",
     "text": [
      "Enter the first number:  2\n",
      "Enter the second number:  8\n",
      "Enter the third number:  1\n"
     ]
    },
    {
     "name": "stdout",
     "output_type": "stream",
     "text": [
      "Sorted numbers in ascending order: (1.0, 2.0, 8.0)\n"
     ]
    }
   ],
   "source": [
    "def sort_three_numbers(a, b, c):\n",
    "    if a <= b <= c:\n",
    "        sorted_numbers = (a, b, c)\n",
    "    elif a <= c <= b:\n",
    "        sorted_numbers = (a, c, b)\n",
    "    elif b <= a <= c:\n",
    "        sorted_numbers = (b, a, c)\n",
    "    elif b <= c <= a:\n",
    "        sorted_numbers = (b, c, a)\n",
    "    elif c <= a <= b:\n",
    "        sorted_numbers = (c, a, b)\n",
    "    else:\n",
    "        sorted_numbers = (c, b, a)\n",
    "\n",
    "    return sorted_numbers\n",
    "\n",
    "def main():\n",
    "    try:\n",
    "        num1 = float(input(\"Enter the first number: \"))\n",
    "        num2 = float(input(\"Enter the second number: \"))\n",
    "        num3 = float(input(\"Enter the third number: \"))\n",
    "    except ValueError:\n",
    "        print(\"Invalid input. Please enter valid numerical values.\")\n",
    "        return\n",
    "\n",
    "    sorted_numbers = sort_three_numbers(num1, num2, num3)\n",
    "    print(\"Sorted numbers in ascending order:\", sorted_numbers)\n",
    "\n",
    "if __name__ == \"__main__\":\n",
    "    main()\n"
   ]
  },
  {
   "cell_type": "markdown",
   "id": "439ae013-512a-4dc9-87aa-697143e38cd9",
   "metadata": {},
   "source": [
    "29. Build a program that determines the roots of a quartic equation using numerical methods.\n"
   ]
  },
  {
   "cell_type": "code",
   "execution_count": 9,
   "id": "6940cae8-d10c-47ee-bea7-54e0285a7801",
   "metadata": {},
   "outputs": [
    {
     "name": "stdin",
     "output_type": "stream",
     "text": [
      "Enter coefficient 1:  5\n",
      "Enter coefficient 2:  6\n",
      "Enter coefficient 3:  5\n",
      "Enter coefficient 4:  5\n",
      "Enter coefficient 5:  9\n",
      "Enter an initial guess:  2\n"
     ]
    },
    {
     "name": "stdout",
     "output_type": "stream",
     "text": [
      "Newton-Raphson method did not converge within the specified number of iterations.\n"
     ]
    }
   ],
   "source": [
    "def quartic_equation(x, coefficients):\n",
    "    \n",
    "    a, b, c, d, e = coefficients\n",
    "    return a * x**4 + b * x**3 + c * x**2 + d * x + e\n",
    "\n",
    "def derivative_quartic(x, coefficients):\n",
    "    \n",
    "    a, b, c, d, _ = coefficients\n",
    "    return 4 * a * x**3 + 3 * b * x**2 + 2 * c * x + d\n",
    "\n",
    "def newton_raphson_quartic(coefficients, initial_guess, tolerance=1e-6, max_iterations=1000):\n",
    "    x = initial_guess\n",
    "\n",
    "    for _ in range(max_iterations):\n",
    "        f_x = quartic_equation(x, coefficients)\n",
    "        f_prime_x = derivative_quartic(x, coefficients)\n",
    "\n",
    "        x -= f_x / f_prime_x\n",
    "\n",
    "        if abs(f_x) < tolerance:\n",
    "            return x\n",
    "\n",
    "    # If the maximum number of iterations is reached, return None\n",
    "    return None\n",
    "\n",
    "def main():\n",
    "    try:\n",
    "        # Coefficients of the quartic equation: ax^4 + bx^3 + cx^2 + dx + e\n",
    "        coefficients = [float(input(f\"Enter coefficient {i + 1}: \")) for i in range(5)]\n",
    "        initial_guess = float(input(\"Enter an initial guess: \"))\n",
    "    except ValueError:\n",
    "        print(\"Invalid input. Please enter valid numerical values.\")\n",
    "        return\n",
    "\n",
    "    root = newton_raphson_quartic(coefficients, initial_guess)\n",
    "\n",
    "    if root is not None:\n",
    "        print(f\"An approximate root of the quartic equation is: {root:.6f}\")\n",
    "    else:\n",
    "        print(\"Newton-Raphson method did not converge within the specified number of iterations.\")\n",
    "\n",
    "if __name__ == \"__main__\":\n",
    "    main()\n"
   ]
  },
  {
   "cell_type": "markdown",
   "id": "7c259317-f0dc-4049-b05a-91b696140520",
   "metadata": {},
   "source": [
    "30. Write a program that calculates the BMI (Body Mass Index) and provides health recommendations based\n",
    "on the user's input.\n",
    "\n"
   ]
  },
  {
   "cell_type": "code",
   "execution_count": 10,
   "id": "91634425-0bda-45ac-93fc-319a410863c6",
   "metadata": {},
   "outputs": [
    {
     "name": "stdin",
     "output_type": "stream",
     "text": [
      "Enter your weight in kilograms:  78\n",
      "Enter your height in meters:  3\n"
     ]
    },
    {
     "name": "stdout",
     "output_type": "stream",
     "text": [
      "Your BMI is: 8.67\n",
      "Category: Underweight\n",
      "Recommendation: Consider consulting with a healthcare professional to ensure a healthy weight gain.\n"
     ]
    }
   ],
   "source": [
    "def calculate_bmi(weight, height):\n",
    "    # BMI formula: weight (kg) / (height (m))^2\n",
    "    return weight / (height ** 2)\n",
    "\n",
    "def interpret_bmi(bmi):\n",
    "    if bmi < 18.5:\n",
    "        return \"Underweight\"\n",
    "    elif 18.5 <= bmi < 24.9:\n",
    "        return \"Normal weight\"\n",
    "    elif 25 <= bmi < 29.9:\n",
    "        return \"Overweight\"\n",
    "    else:\n",
    "        return \"Obese\"\n",
    "\n",
    "def main():\n",
    "    try:\n",
    "        weight = float(input(\"Enter your weight in kilograms: \"))\n",
    "        height = float(input(\"Enter your height in meters: \"))\n",
    "    except ValueError:\n",
    "        print(\"Invalid input. Please enter valid numerical values.\")\n",
    "        return\n",
    "\n",
    "    if weight <= 0 or height <= 0:\n",
    "        print(\"Invalid input. Weight and height must be positive values.\")\n",
    "        return\n",
    "\n",
    "    bmi = calculate_bmi(weight, height)\n",
    "    bmi_category = interpret_bmi(bmi)\n",
    "\n",
    "    print(f\"Your BMI is: {bmi:.2f}\")\n",
    "    print(f\"Category: {bmi_category}\")\n",
    "\n",
    "    if bmi_category == \"Underweight\":\n",
    "        print(\"Recommendation: Consider consulting with a healthcare professional to ensure a healthy weight gain.\")\n",
    "    elif bmi_category == \"Normal weight\":\n",
    "        print(\"Congratulations! Your weight is within the healthy range.\")\n",
    "    elif bmi_category == \"Overweight\":\n",
    "        print(\"Recommendation: Consider adopting a balanced diet and regular exercise routine.\")\n",
    "    else:\n",
    "        print(\"Recommendation: Consult with a healthcare professional to address potential health risks associated with obesity.\")\n",
    "\n",
    "if __name__ == \"__main__\":\n",
    "    main()\n"
   ]
  },
  {
   "cell_type": "markdown",
   "id": "c11fd6a7-4580-4b54-81f4-34ced1bbc239",
   "metadata": {},
   "source": [
    "# Challenge Level:"
   ]
  },
  {
   "cell_type": "markdown",
   "id": "f47cc8f6-30b8-4559-8a37-bb88e3c29ccb",
   "metadata": {},
   "source": [
    "31. Create a program that validates a password based on complexity rules (length, characters, etc.).\n"
   ]
  },
  {
   "cell_type": "code",
   "execution_count": 13,
   "id": "946bedca-75be-4959-ac8f-6d7f180fc6ec",
   "metadata": {},
   "outputs": [
    {
     "name": "stdin",
     "output_type": "stream",
     "text": [
      "Enter a password:  SAgar123@\n"
     ]
    },
    {
     "name": "stdout",
     "output_type": "stream",
     "text": [
      "Password is valid!\n"
     ]
    }
   ],
   "source": [
    "def is_valid_password(password):\n",
    "    # Check if the password meets the complexity rules\n",
    "    if len(password) < 8:\n",
    "        return False\n",
    "\n",
    "    has_lowercase = any(char.islower() for char in password)\n",
    "    has_uppercase = any(char.isupper() for char in password)\n",
    "    has_digit = any(char.isdigit() for char in password)\n",
    "    has_special_char = any(char in \"!@#$%^&*()-_=+[]{}|;:'\\\",.<>/?`~\" for char in password)\n",
    "\n",
    "    return has_lowercase and has_uppercase and has_digit and has_special_char\n",
    "\n",
    "def main():\n",
    "    user_password = input(\"Enter a password: \")\n",
    "\n",
    "    if is_valid_password(user_password):\n",
    "        print(\"Password is valid!\")\n",
    "    else:\n",
    "        print(\"Password does not meet complexity rules.\")\n",
    "\n",
    "if __name__ == \"__main__\":\n",
    "    main()\n"
   ]
  },
  {
   "cell_type": "markdown",
   "id": "8d988aa5-f207-4b1b-881d-e2a7309d634b",
   "metadata": {},
   "source": [
    "32. Develop a program that performs matrix addition and subtraction based on user input.\n"
   ]
  },
  {
   "cell_type": "code",
   "execution_count": 14,
   "id": "1685e806-84d9-43ef-8b9e-ca405cee1445",
   "metadata": {},
   "outputs": [
    {
     "name": "stdout",
     "output_type": "stream",
     "text": [
      "Matrix Addition and Subtraction\n",
      "\n",
      "Enter details for the first matrix:\n"
     ]
    },
    {
     "name": "stdin",
     "output_type": "stream",
     "text": [
      "Enter the number of rows:  2\n",
      "Enter the number of columns:  2\n",
      "Enter element at position (1, 1):  5\n",
      "Enter element at position (1, 2):  6\n",
      "Enter element at position (2, 1):  1\n",
      "Enter element at position (2, 2):  9\n"
     ]
    },
    {
     "name": "stdout",
     "output_type": "stream",
     "text": [
      "\n",
      "Enter details for the second matrix:\n"
     ]
    },
    {
     "name": "stdin",
     "output_type": "stream",
     "text": [
      "Enter the number of rows:  2\n",
      "Enter the number of columns:  2\n",
      "Enter element at position (1, 1):  1\n",
      "Enter element at position (1, 2):  3\n",
      "Enter element at position (2, 1):  5\n",
      "Enter element at position (2, 2):  9\n"
     ]
    },
    {
     "name": "stdout",
     "output_type": "stream",
     "text": [
      "\n",
      "Matrix 1:\n",
      "[5.0, 6.0]\n",
      "[1.0, 9.0]\n",
      "\n",
      "Matrix 2:\n",
      "[1.0, 3.0]\n",
      "[5.0, 9.0]\n",
      "\n",
      "Matrix Addition Result:\n",
      "[6.0, 9.0]\n",
      "[6.0, 18.0]\n",
      "\n",
      "Matrix Subtraction Result:\n",
      "[4.0, 3.0]\n",
      "[-4.0, 0.0]\n"
     ]
    }
   ],
   "source": [
    "def matrix_addition(matrix1, matrix2):\n",
    "    result = [[0 for _ in range(len(matrix1[0]))] for _ in range(len(matrix1))]\n",
    "\n",
    "    for i in range(len(matrix1)):\n",
    "        for j in range(len(matrix1[0])):\n",
    "            result[i][j] = matrix1[i][j] + matrix2[i][j]\n",
    "\n",
    "    return result\n",
    "\n",
    "def matrix_subtraction(matrix1, matrix2):\n",
    "    result = [[0 for _ in range(len(matrix1[0]))] for _ in range(len(matrix1))]\n",
    "\n",
    "    for i in range(len(matrix1)):\n",
    "        for j in range(len(matrix1[0])):\n",
    "            result[i][j] = matrix1[i][j] - matrix2[i][j]\n",
    "\n",
    "    return result\n",
    "\n",
    "def print_matrix(matrix):\n",
    "    for row in matrix:\n",
    "        print(row)\n",
    "\n",
    "def get_matrix_input():\n",
    "    try:\n",
    "        rows = int(input(\"Enter the number of rows: \"))\n",
    "        cols = int(input(\"Enter the number of columns: \"))\n",
    "    except ValueError:\n",
    "        print(\"Invalid input. Please enter valid numerical values.\")\n",
    "        return None\n",
    "\n",
    "    matrix = []\n",
    "    for i in range(rows):\n",
    "        row = []\n",
    "        for j in range(cols):\n",
    "            try:\n",
    "                element = float(input(f\"Enter element at position ({i + 1}, {j + 1}): \"))\n",
    "            except ValueError:\n",
    "                print(\"Invalid input. Please enter valid numerical values.\")\n",
    "                return None\n",
    "            row.append(element)\n",
    "        matrix.append(row)\n",
    "\n",
    "    return matrix\n",
    "\n",
    "def main():\n",
    "    print(\"Matrix Addition and Subtraction\\n\")\n",
    "\n",
    "    print(\"Enter details for the first matrix:\")\n",
    "    matrix1 = get_matrix_input()\n",
    "    if matrix1 is None:\n",
    "        return\n",
    "\n",
    "    print(\"\\nEnter details for the second matrix:\")\n",
    "    matrix2 = get_matrix_input()\n",
    "    if matrix2 is None:\n",
    "        return\n",
    "\n",
    "    print(\"\\nMatrix 1:\")\n",
    "    print_matrix(matrix1)\n",
    "\n",
    "    print(\"\\nMatrix 2:\")\n",
    "    print_matrix(matrix2)\n",
    "\n",
    "    addition_result = matrix_addition(matrix1, matrix2)\n",
    "    subtraction_result = matrix_subtraction(matrix1, matrix2)\n",
    "\n",
    "    print(\"\\nMatrix Addition Result:\")\n",
    "    print_matrix(addition_result)\n",
    "\n",
    "    print(\"\\nMatrix Subtraction Result:\")\n",
    "    print_matrix(subtraction_result)\n",
    "\n",
    "if __name__ == \"__main__\":\n",
    "    main()\n"
   ]
  },
  {
   "cell_type": "markdown",
   "id": "48629c9c-1efc-4665-9a5e-94f205629fa5",
   "metadata": {},
   "source": [
    "33. Write a program that calculates the greatest common divisor (GCD) of two numbers using the Euclidean\n",
    "algorithm.\n"
   ]
  },
  {
   "cell_type": "code",
   "execution_count": 15,
   "id": "dc24b191-c011-43e8-81a1-536f4403419c",
   "metadata": {},
   "outputs": [
    {
     "name": "stdin",
     "output_type": "stream",
     "text": [
      "Enter the first number:  56\n",
      "Enter the second number:  53\n"
     ]
    },
    {
     "name": "stdout",
     "output_type": "stream",
     "text": [
      "The greatest common divisor (GCD) of 56 and 53 is: 1\n"
     ]
    }
   ],
   "source": [
    "def euclidean_algorithm(a, b):\n",
    "    while b:\n",
    "        a, b = b, a % b\n",
    "    return a\n",
    "\n",
    "def main():\n",
    "    num1 = int(input(\"Enter the first number: \"))\n",
    "    num2 = int(input(\"Enter the second number: \"))\n",
    "\n",
    "    gcd = euclidean_algorithm(num1, num2)\n",
    "    print(f\"The greatest common divisor (GCD) of {num1} and {num2} is: {gcd}\")\n",
    "\n",
    "if __name__ == \"__main__\":\n",
    "    main()\n"
   ]
  },
  {
   "cell_type": "markdown",
   "id": "3cea80ee-f7fd-4619-8d32-1af2057a662a",
   "metadata": {},
   "source": [
    "34. Build a program that performs matrix multiplication using nested loops and conditional statements.\n"
   ]
  },
  {
   "cell_type": "code",
   "execution_count": 16,
   "id": "ed3b203f-e972-416f-95ed-7af09f6253f7",
   "metadata": {},
   "outputs": [
    {
     "name": "stdout",
     "output_type": "stream",
     "text": [
      "Matrix Multiplication\n",
      "\n",
      "Enter details for the first matrix:\n"
     ]
    },
    {
     "name": "stdin",
     "output_type": "stream",
     "text": [
      "Enter the number of rows:  3\n",
      "Enter the number of columns:  3\n",
      "Enter element at position (1, 1):  2\n",
      "Enter element at position (1, 2):  6\n",
      "Enter element at position (1, 3):  5\n",
      "Enter element at position (2, 1):  4\n",
      "Enter element at position (2, 2):  9\n",
      "Enter element at position (2, 3):  2\n",
      "Enter element at position (3, 1):  1\n",
      "Enter element at position (3, 2):  1\n",
      "Enter element at position (3, 3):  5\n"
     ]
    },
    {
     "name": "stdout",
     "output_type": "stream",
     "text": [
      "\n",
      "Enter details for the second matrix:\n"
     ]
    },
    {
     "name": "stdin",
     "output_type": "stream",
     "text": [
      "Enter the number of rows:  3\n",
      "Enter the number of columns:  3\n",
      "Enter element at position (1, 1):  51\n",
      "Enter element at position (1, 2):  45\n",
      "Enter element at position (1, 3):  63\n",
      "Enter element at position (2, 1):  21\n",
      "Enter element at position (2, 2):  23\n",
      "Enter element at position (2, 3):  23\n",
      "Enter element at position (3, 1):  15\n",
      "Enter element at position (3, 2):  15\n",
      "Enter element at position (3, 3):  55\n"
     ]
    },
    {
     "name": "stdout",
     "output_type": "stream",
     "text": [
      "\n",
      "Matrix 1:\n",
      "[2.0, 6.0, 5.0]\n",
      "[4.0, 9.0, 2.0]\n",
      "[1.0, 1.0, 5.0]\n",
      "\n",
      "Matrix 2:\n",
      "[51.0, 45.0, 63.0]\n",
      "[21.0, 23.0, 23.0]\n",
      "[15.0, 15.0, 55.0]\n",
      "\n",
      "Matrix Multiplication Result:\n",
      "[303.0, 303.0, 539.0]\n",
      "[423.0, 417.0, 569.0]\n",
      "[147.0, 143.0, 361.0]\n"
     ]
    }
   ],
   "source": [
    "def matrix_multiply(matrix1, matrix2):\n",
    "    rows1, cols1 = len(matrix1), len(matrix1[0])\n",
    "    rows2, cols2 = len(matrix2), len(matrix2[0])\n",
    "\n",
    "    # Check if matrices can be multiplied\n",
    "    if cols1 != rows2:\n",
    "        print(\"Matrices cannot be multiplied. Invalid dimensions.\")\n",
    "        return None\n",
    "\n",
    "    result = [[0 for _ in range(cols2)] for _ in range(rows1)]\n",
    "\n",
    "    for i in range(rows1):\n",
    "        for j in range(cols2):\n",
    "            for k in range(cols1):\n",
    "                result[i][j] += matrix1[i][k] * matrix2[k][j]\n",
    "\n",
    "    return result\n",
    "\n",
    "def print_matrix(matrix):\n",
    "    for row in matrix:\n",
    "        print(row)\n",
    "\n",
    "def get_matrix_input():\n",
    "    try:\n",
    "        rows = int(input(\"Enter the number of rows: \"))\n",
    "        cols = int(input(\"Enter the number of columns: \"))\n",
    "    except ValueError:\n",
    "        print(\"Invalid input. Please enter valid numerical values.\")\n",
    "        return None\n",
    "\n",
    "    matrix = []\n",
    "    for i in range(rows):\n",
    "        row = []\n",
    "        for j in range(cols):\n",
    "            try:\n",
    "                element = float(input(f\"Enter element at position ({i + 1}, {j + 1}): \"))\n",
    "            except ValueError:\n",
    "                print(\"Invalid input. Please enter valid numerical values.\")\n",
    "                return None\n",
    "            row.append(element)\n",
    "        matrix.append(row)\n",
    "\n",
    "    return matrix\n",
    "\n",
    "def main():\n",
    "    print(\"Matrix Multiplication\\n\")\n",
    "\n",
    "    print(\"Enter details for the first matrix:\")\n",
    "    matrix1 = get_matrix_input()\n",
    "    if matrix1 is None:\n",
    "        return\n",
    "\n",
    "    print(\"\\nEnter details for the second matrix:\")\n",
    "    matrix2 = get_matrix_input()\n",
    "    if matrix2 is None:\n",
    "        return\n",
    "\n",
    "    print(\"\\nMatrix 1:\")\n",
    "    print_matrix(matrix1)\n",
    "\n",
    "    print(\"\\nMatrix 2:\")\n",
    "    print_matrix(matrix2)\n",
    "\n",
    "    multiplication_result = matrix_multiply(matrix1, matrix2)\n",
    "\n",
    "    if multiplication_result is not None:\n",
    "        print(\"\\nMatrix Multiplication Result:\")\n",
    "        print_matrix(multiplication_result)\n",
    "\n",
    "if __name__ == \"__main__\":\n",
    "    main()\n"
   ]
  },
  {
   "cell_type": "markdown",
   "id": "41a1c2fa-acdb-4c91-a153-da2ab1667d9c",
   "metadata": {},
   "source": [
    "35. Create a program that simulates a basic text-based tic-tac-toe game against the computer.\n"
   ]
  },
  {
   "cell_type": "code",
   "execution_count": 17,
   "id": "830fc9e5-cba0-45b0-a1c4-4b72b1ed8165",
   "metadata": {},
   "outputs": [
    {
     "name": "stdout",
     "output_type": "stream",
     "text": [
      "Welcome to Tic-Tac-Toe!\n",
      "\n",
      "  |   |  \n",
      "---------\n",
      "  |   |  \n",
      "---------\n",
      "  |   |  \n",
      "---------\n",
      "\n",
      "Your turn (X):\n"
     ]
    },
    {
     "name": "stdin",
     "output_type": "stream",
     "text": [
      "Enter the row (1, 2, or 3):  X\n"
     ]
    },
    {
     "name": "stdout",
     "output_type": "stream",
     "text": [
      "Invalid input. Please enter valid numerical values.\n"
     ]
    },
    {
     "name": "stdin",
     "output_type": "stream",
     "text": [
      "Enter the row (1, 2, or 3):  1\n",
      "Enter the column (1, 2, or 3):  \n"
     ]
    },
    {
     "name": "stdout",
     "output_type": "stream",
     "text": [
      "Invalid input. Please enter valid numerical values.\n"
     ]
    },
    {
     "name": "stdin",
     "output_type": "stream",
     "text": [
      "Enter the row (1, 2, or 3):  3\n",
      "Enter the column (1, 2, or 3):  3\n"
     ]
    },
    {
     "name": "stdout",
     "output_type": "stream",
     "text": [
      "  |   |  \n",
      "---------\n",
      "  |   |  \n",
      "---------\n",
      "  |   | X\n",
      "---------\n",
      "\n",
      "Computer's turn (O):\n",
      "  |   |  \n",
      "---------\n",
      "  |   |  \n",
      "---------\n",
      "O |   | X\n",
      "---------\n",
      "\n",
      "Your turn (X):\n"
     ]
    },
    {
     "name": "stdin",
     "output_type": "stream",
     "text": [
      "Enter the row (1, 2, or 3):  2\n",
      "Enter the column (1, 2, or 3):  3\n"
     ]
    },
    {
     "name": "stdout",
     "output_type": "stream",
     "text": [
      "  |   |  \n",
      "---------\n",
      "  |   | X\n",
      "---------\n",
      "O |   | X\n",
      "---------\n",
      "\n",
      "Computer's turn (O):\n",
      "  | O |  \n",
      "---------\n",
      "  |   | X\n",
      "---------\n",
      "O |   | X\n",
      "---------\n",
      "\n",
      "Your turn (X):\n"
     ]
    },
    {
     "name": "stdin",
     "output_type": "stream",
     "text": [
      "Enter the row (1, 2, or 3):  1\n",
      "Enter the column (1, 2, or 3):  1\n"
     ]
    },
    {
     "name": "stdout",
     "output_type": "stream",
     "text": [
      "X | O |  \n",
      "---------\n",
      "  |   | X\n",
      "---------\n",
      "O |   | X\n",
      "---------\n",
      "\n",
      "Computer's turn (O):\n",
      "X | O |  \n",
      "---------\n",
      "  |   | X\n",
      "---------\n",
      "O | O | X\n",
      "---------\n",
      "\n",
      "Your turn (X):\n"
     ]
    },
    {
     "name": "stdin",
     "output_type": "stream",
     "text": [
      "Enter the row (1, 2, or 3):  2\n",
      "Enter the column (1, 2, or 3):  2\n"
     ]
    },
    {
     "name": "stdout",
     "output_type": "stream",
     "text": [
      "X | O |  \n",
      "---------\n",
      "  | X | X\n",
      "---------\n",
      "O | O | X\n",
      "---------\n",
      "Congratulations! You win!\n"
     ]
    }
   ],
   "source": [
    "import random\n",
    "\n",
    "def print_board(board):\n",
    "    for row in board:\n",
    "        print(\" | \".join(row))\n",
    "        print(\"-\" * 9)\n",
    "\n",
    "def check_winner(board, player):\n",
    "    # Check rows, columns, and diagonals for a win\n",
    "    for i in range(3):\n",
    "        if all(cell == player for cell in board[i]) or all(board[j][i] == player for j in range(3)):\n",
    "            return True\n",
    "    if all(board[i][i] == player for i in range(3)) or all(board[i][2 - i] == player for i in range(3)):\n",
    "        return True\n",
    "    return False\n",
    "\n",
    "def is_board_full(board):\n",
    "    return all(all(cell != ' ' for cell in row) for row in board)\n",
    "\n",
    "def get_empty_cells(board):\n",
    "    empty_cells = []\n",
    "    for i in range(3):\n",
    "        for j in range(3):\n",
    "            if board[i][j] == ' ':\n",
    "                empty_cells.append((i, j))\n",
    "    return empty_cells\n",
    "\n",
    "def player_move(board):\n",
    "    while True:\n",
    "        try:\n",
    "            row = int(input(\"Enter the row (1, 2, or 3): \")) - 1\n",
    "            col = int(input(\"Enter the column (1, 2, or 3): \")) - 1\n",
    "        except ValueError:\n",
    "            print(\"Invalid input. Please enter valid numerical values.\")\n",
    "            continue\n",
    "\n",
    "        if 0 <= row < 3 and 0 <= col < 3 and board[row][col] == ' ':\n",
    "            return row, col\n",
    "        else:\n",
    "            print(\"Invalid move. Try again.\")\n",
    "\n",
    "def computer_move(board):\n",
    "    empty_cells = get_empty_cells(board)\n",
    "    return random.choice(empty_cells)\n",
    "\n",
    "def play_game():\n",
    "    board = [[' ' for _ in range(3)] for _ in range(3)]\n",
    "    player_symbol = 'X'\n",
    "    computer_symbol = 'O'\n",
    "\n",
    "    print(\"Welcome to Tic-Tac-Toe!\\n\")\n",
    "    print_board(board)\n",
    "\n",
    "    for _ in range(9):\n",
    "        if _ % 2 == 0:\n",
    "            print(\"\\nYour turn (X):\")\n",
    "            row, col = player_move(board)\n",
    "            board[row][col] = player_symbol\n",
    "        else:\n",
    "            print(\"\\nComputer's turn (O):\")\n",
    "            row, col = computer_move(board)\n",
    "            board[row][col] = computer_symbol\n",
    "\n",
    "        print_board(board)\n",
    "\n",
    "        if check_winner(board, player_symbol):\n",
    "            print(\"Congratulations! You win!\")\n",
    "            return\n",
    "        elif check_winner(board, computer_symbol):\n",
    "            print(\"Computer wins! Better luck next time.\")\n",
    "            return\n",
    "        elif is_board_full(board):\n",
    "            print(\"It's a draw!\")\n",
    "            return\n",
    "\n",
    "if __name__ == \"__main__\":\n",
    "    play_game()\n"
   ]
  },
  {
   "cell_type": "markdown",
   "id": "254e4fa9-f8f4-4e76-9557-2c11b1745899",
   "metadata": {},
   "source": [
    "36. Write a program that generates Fibonacci numbers up to a specified term using iterative methods.\n"
   ]
  },
  {
   "cell_type": "code",
   "execution_count": 18,
   "id": "4f6ced9e-a744-4cc1-8025-f458576ffb04",
   "metadata": {},
   "outputs": [
    {
     "name": "stdin",
     "output_type": "stream",
     "text": [
      "Enter the number of Fibonacci terms to generate:  9\n"
     ]
    },
    {
     "name": "stdout",
     "output_type": "stream",
     "text": [
      "\n",
      "Fibonacci sequence up to term 9:\n",
      "[0, 1, 1, 2, 3, 5, 8, 13, 21]\n"
     ]
    }
   ],
   "source": [
    "def generate_fibonacci(n):\n",
    "    fibonacci_sequence = [0, 1]\n",
    "\n",
    "    while len(fibonacci_sequence) < n:\n",
    "        next_term = fibonacci_sequence[-1] + fibonacci_sequence[-2]\n",
    "        fibonacci_sequence.append(next_term)\n",
    "\n",
    "    return fibonacci_sequence\n",
    "\n",
    "def main():\n",
    "    try:\n",
    "        n = int(input(\"Enter the number of Fibonacci terms to generate: \"))\n",
    "    except ValueError:\n",
    "        print(\"Invalid input. Please enter a valid numerical value.\")\n",
    "        return\n",
    "\n",
    "    if n <= 0:\n",
    "        print(\"Number of terms should be greater than zero.\")\n",
    "        return\n",
    "\n",
    "    fibonacci_sequence = generate_fibonacci(n)\n",
    "    \n",
    "    print(f\"\\nFibonacci sequence up to term {n}:\")\n",
    "    print(fibonacci_sequence)\n",
    "\n",
    "if __name__ == \"__main__\":\n",
    "    main()\n"
   ]
  },
  {
   "cell_type": "markdown",
   "id": "3041bc2f-1dda-4061-a5c3-b64bd6023d07",
   "metadata": {},
   "source": [
    "37. Develop a program that calculates the nth term of the Fibonacci sequence using memoization.\n"
   ]
  },
  {
   "cell_type": "code",
   "execution_count": 19,
   "id": "095ab79c-a5b0-491a-a2e7-c2f6d7e6ccad",
   "metadata": {},
   "outputs": [
    {
     "name": "stdin",
     "output_type": "stream",
     "text": [
      "Enter the value of n for the nth Fibonacci term:  9\n"
     ]
    },
    {
     "name": "stdout",
     "output_type": "stream",
     "text": [
      "\n",
      "The 9th term of the Fibonacci sequence is: 21\n"
     ]
    }
   ],
   "source": [
    "def fibonacci(n, memo={}):\n",
    "    if n <= 0:\n",
    "        return \"Invalid input. n should be a positive integer.\"\n",
    "\n",
    "    if n in memo:\n",
    "        return memo[n]\n",
    "\n",
    "    if n == 1:\n",
    "        return 0\n",
    "    elif n == 2:\n",
    "        return 1\n",
    "    else:\n",
    "        result = fibonacci(n - 1, memo) + fibonacci(n - 2, memo)\n",
    "        memo[n] = result\n",
    "        return result\n",
    "\n",
    "def main():\n",
    "    try:\n",
    "        n = int(input(\"Enter the value of n for the nth Fibonacci term: \"))\n",
    "    except ValueError:\n",
    "        print(\"Invalid input. Please enter a valid numerical value.\")\n",
    "        return\n",
    "\n",
    "    nth_term = fibonacci(n)\n",
    "    \n",
    "    if isinstance(nth_term, int):\n",
    "        print(f\"\\nThe {n}th term of the Fibonacci sequence is: {nth_term}\")\n",
    "    else:\n",
    "        print(nth_term)\n",
    "\n",
    "if __name__ == \"__main__\":\n",
    "    main()\n"
   ]
  },
  {
   "cell_type": "markdown",
   "id": "fdd211d5-c9c9-46de-8ed1-99bb3f1681b7",
   "metadata": {},
   "source": [
    "38. Create a program that generates a calendar for a given month and year using conditional statements.\n"
   ]
  },
  {
   "cell_type": "code",
   "execution_count": 20,
   "id": "f8be5153-83a9-4918-b31b-629b308ed4fa",
   "metadata": {},
   "outputs": [
    {
     "name": "stdin",
     "output_type": "stream",
     "text": [
      "Enter the year:  2026\n",
      "Enter the month (1-12):  11\n"
     ]
    },
    {
     "name": "stdout",
     "output_type": "stream",
     "text": [
      "\n",
      "Calendar:\n",
      "November 2026\n",
      "Mo Tu We Th Fr Sa Su\n",
      "                         1  \n",
      " 2   3   4   5   6   7   8  \n",
      " 9  10  11  12  13  14  15  \n",
      "16  17  18  19  20  21  22  \n",
      "23  24  25  26  27  28  29  \n",
      "30                          \n"
     ]
    }
   ],
   "source": [
    "import calendar\n",
    "\n",
    "def generate_calendar(year, month):\n",
    "    # Check if the provided year and month are valid\n",
    "    if not (1 <= month <= 12):\n",
    "        print(\"Invalid month. Please enter a value between 1 and 12.\")\n",
    "        return\n",
    "\n",
    "    cal = calendar.monthcalendar(year, month)\n",
    "\n",
    "    print(\"\\nCalendar:\")\n",
    "    print(calendar.month_name[month], year)\n",
    "    print(\"Mo Tu We Th Fr Sa Su\")\n",
    "\n",
    "    for week in cal:\n",
    "        for day in week:\n",
    "            if day == 0:\n",
    "                print(\"   \", end=\" \")\n",
    "            else:\n",
    "                print(f\"{day:2} \", end=\" \")\n",
    "        print()\n",
    "\n",
    "def main():\n",
    "    try:\n",
    "        year = int(input(\"Enter the year: \"))\n",
    "        month = int(input(\"Enter the month (1-12): \"))\n",
    "    except ValueError:\n",
    "        print(\"Invalid input. Please enter valid numerical values.\")\n",
    "        return\n",
    "\n",
    "    generate_calendar(year, month)\n",
    "\n",
    "if __name__ == \"__main__\":\n",
    "    main()\n"
   ]
  },
  {
   "cell_type": "markdown",
   "id": "cd2c97cd-8a60-4410-aaf0-2e9f2ca4914b",
   "metadata": {},
   "source": [
    "39. Build a program that simulates a basic text-based blackjack game against the computer.\n"
   ]
  },
  {
   "cell_type": "code",
   "execution_count": 12,
   "id": "2bcc6f93-78eb-4e37-835a-ae10feb34a28",
   "metadata": {},
   "outputs": [
    {
     "name": "stdout",
     "output_type": "stream",
     "text": [
      "Welcome to Blackjack!\n",
      "\n",
      "Your cards: [11, 8], current score: 19\n",
      "Computer's first card: 7\n"
     ]
    },
    {
     "name": "stdin",
     "output_type": "stream",
     "text": [
      "Type 'y' to get another card, 'n' to pass:  n\n"
     ]
    },
    {
     "name": "stdout",
     "output_type": "stream",
     "text": [
      "Your final hand: [11, 8], final score: 19\n",
      "Computer's final hand: [7, 3, 10], final score: 20\n",
      "You lose!\n"
     ]
    }
   ],
   "source": [
    "import random\n",
    "\n",
    "def deal_card():\n",
    "    \"\"\"Return a random card from the deck.\"\"\"\n",
    "    cards = [2, 3, 4, 5, 6, 7, 8, 9, 10, 10, 10, 10, 11]\n",
    "    return random.choice(cards)\n",
    "\n",
    "def calculate_score(cards):\n",
    "    \"\"\"Calculate the total score of a hand of cards.\"\"\"\n",
    "    if sum(cards) == 21 and len(cards) == 2:\n",
    "        return 0  # Blackjack\n",
    "    if 11 in cards and sum(cards) > 21:\n",
    "        cards.remove(11)\n",
    "        cards.append(1)\n",
    "    return sum(cards)\n",
    "\n",
    "def compare(user_score, computer_score):\n",
    "    \"\"\"Compare the user's and computer's scores to determine the winner.\"\"\"\n",
    "    if user_score == computer_score:\n",
    "        return \"It's a draw!\"\n",
    "    elif computer_score == 0:\n",
    "        return \"Computer has Blackjack. You lose!\"\n",
    "    elif user_score == 0:\n",
    "        return \"Blackjack! You win!\"\n",
    "    elif user_score > 21:\n",
    "        return \"You went over. You lose!\"\n",
    "    elif computer_score > 21:\n",
    "        return \"Computer went over. You win!\"\n",
    "    elif user_score > computer_score:\n",
    "        return \"You win!\"\n",
    "    else:\n",
    "        return \"You lose!\"\n",
    "\n",
    "def play_game():\n",
    "    user_cards = []\n",
    "    computer_cards = []\n",
    "    game_over = False\n",
    "\n",
    "    for _ in range(2):\n",
    "        user_cards.append(deal_card())\n",
    "        computer_cards.append(deal_card())\n",
    "\n",
    "    while not game_over:\n",
    "        user_score = calculate_score(user_cards)\n",
    "        computer_score = calculate_score(computer_cards)\n",
    "\n",
    "        print(f\"Your cards: {user_cards}, current score: {user_score}\")\n",
    "        print(f\"Computer's first card: {computer_cards[0]}\")\n",
    "\n",
    "        if user_score == 0 or computer_score == 0 or user_score > 21:\n",
    "            game_over = True\n",
    "        else:\n",
    "            another_card = input(\"Type 'y' to get another card, 'n' to pass: \").lower()\n",
    "            if another_card == 'y':\n",
    "                user_cards.append(deal_card())\n",
    "            else:\n",
    "                game_over = True\n",
    "\n",
    "    while computer_score != 0 and computer_score < 17:\n",
    "        computer_cards.append(deal_card())\n",
    "        computer_score = calculate_score(computer_cards)\n",
    "\n",
    "    print(f\"Your final hand: {user_cards}, final score: {user_score}\")\n",
    "    print(f\"Computer's final hand: {computer_cards}, final score: {computer_score}\")\n",
    "    print(compare(user_score, computer_score))\n",
    "\n",
    "if __name__ == \"__main__\":\n",
    "    print(\"Welcome to Blackjack!\\n\")\n",
    "    play_game()\n"
   ]
  },
  {
   "cell_type": "markdown",
   "id": "6b5fcda4-cd94-40a5-9aa6-dd7574086058",
   "metadata": {},
   "source": [
    "40. Write a program that generates the prime factors of a given number using trial division."
   ]
  },
  {
   "cell_type": "code",
   "execution_count": 11,
   "id": "6860c065-094e-4d70-9d5e-c694541f35ee",
   "metadata": {},
   "outputs": [
    {
     "name": "stdin",
     "output_type": "stream",
     "text": [
      "Enter a number to find its prime factors:  25\n"
     ]
    },
    {
     "name": "stdout",
     "output_type": "stream",
     "text": [
      "Prime factors of 25: [5, 5]\n"
     ]
    }
   ],
   "source": [
    "def generate_prime_factors(number):\n",
    "    prime_factors = []\n",
    "    divisor = 2\n",
    "\n",
    "    while number > 1:\n",
    "        while number % divisor == 0:\n",
    "            prime_factors.append(divisor)\n",
    "            number //= divisor\n",
    "        divisor += 1\n",
    "\n",
    "    return prime_factors\n",
    "\n",
    "def main():\n",
    "    try:\n",
    "        number = int(input(\"Enter a number to find its prime factors: \"))\n",
    "    except ValueError:\n",
    "        print(\"Invalid input. Please enter a valid numerical value.\")\n",
    "        return\n",
    "\n",
    "    if number < 2:\n",
    "        print(\"Prime factors are not defined for numbers less than 2.\")\n",
    "        return\n",
    "\n",
    "    factors = generate_prime_factors(number)\n",
    "\n",
    "    print(f\"Prime factors of {number}: {factors}\")\n",
    "\n",
    "if __name__ == \"__main__\":\n",
    "    main()\n"
   ]
  },
  {
   "cell_type": "code",
   "execution_count": null,
   "id": "034acf03-56d5-4abf-a32b-54fd43bed1c4",
   "metadata": {},
   "outputs": [],
   "source": []
  }
 ],
 "metadata": {
  "kernelspec": {
   "display_name": "Python 3 (ipykernel)",
   "language": "python",
   "name": "python3"
  },
  "language_info": {
   "codemirror_mode": {
    "name": "ipython",
    "version": 3
   },
   "file_extension": ".py",
   "mimetype": "text/x-python",
   "name": "python",
   "nbconvert_exporter": "python",
   "pygments_lexer": "ipython3",
   "version": "3.10.8"
  }
 },
 "nbformat": 4,
 "nbformat_minor": 5
}
