{
 "cells": [
  {
   "cell_type": "markdown",
   "id": "5d2a0de9-3f04-4df8-8a89-e6f6dfe7d03c",
   "metadata": {},
   "source": [
    "# For Loop"
   ]
  },
  {
   "cell_type": "markdown",
   "id": "d9c0c93c-a0e1-4005-ae7b-465b517bb263",
   "metadata": {},
   "source": [
    "# Basic Level:"
   ]
  },
  {
   "cell_type": "markdown",
   "id": "7bad02fc-eff2-41c3-a30d-c554e30eca83",
   "metadata": {},
   "source": [
    "1. Write a Python program to print the numbers from 1 to 10 using a `for` loop.\n"
   ]
  },
  {
   "cell_type": "code",
   "execution_count": 3,
   "id": "4ade4ee0-7f7a-45a4-9f4f-23f7ed41c004",
   "metadata": {},
   "outputs": [
    {
     "name": "stdout",
     "output_type": "stream",
     "text": [
      "1\n",
      "2\n",
      "3\n",
      "4\n",
      "5\n",
      "6\n",
      "7\n",
      "8\n",
      "9\n",
      "10\n"
     ]
    }
   ],
   "source": [
    "for i in range(1,11):\n",
    "    print(i)"
   ]
  },
  {
   "cell_type": "markdown",
   "id": "e150e13b-904c-47af-950a-2bc767f894b3",
   "metadata": {},
   "source": [
    "2. Create a program that calculates the sum of all numbers in a list using a `for` loop."
   ]
  },
  {
   "cell_type": "code",
   "execution_count": 7,
   "id": "dc4af4d9-0a94-443d-9029-a972046459f2",
   "metadata": {},
   "outputs": [
    {
     "name": "stdout",
     "output_type": "stream",
     "text": [
      "243\n"
     ]
    }
   ],
   "source": [
    "list_of_numbers = [2,58,63,78,42]\n",
    "\n",
    "Sum = 0\n",
    "for number in list_of_numbers:\n",
    "    Sum += number \n",
    "\n",
    "print(Sum)"
   ]
  },
  {
   "cell_type": "markdown",
   "id": "2b144865-77ed-4b92-a247-9c5460f48edf",
   "metadata": {},
   "source": [
    "3. Write a program to print the characters of a string in reverse order using a `for` loop.\n"
   ]
  },
  {
   "cell_type": "code",
   "execution_count": 10,
   "id": "dd9a3e5e-3b45-4444-817f-b3598eb5d4fa",
   "metadata": {},
   "outputs": [
    {
     "name": "stdin",
     "output_type": "stream",
     "text": [
      "Enter string pwskills\n"
     ]
    },
    {
     "name": "stdout",
     "output_type": "stream",
     "text": [
      "sllikswp\n"
     ]
    }
   ],
   "source": [
    "string = input('Enter string')\n",
    "reverse_string = \"\"\n",
    "for index in range(len(string)-1,-1,-1):\n",
    "    reverse_string += string[index]\n",
    "print(reverse_string)\n",
    "    \n",
    "    "
   ]
  },
  {
   "cell_type": "markdown",
   "id": "0dcf38b2-b9c4-42b0-898f-6c2acc4c012a",
   "metadata": {},
   "source": [
    "4. Develop a program that finds the factorial of a given number using a `for` loop.\n"
   ]
  },
  {
   "cell_type": "code",
   "execution_count": 13,
   "id": "5b484eba-b823-448e-a71c-67b8673f07d5",
   "metadata": {},
   "outputs": [
    {
     "name": "stdin",
     "output_type": "stream",
     "text": [
      "Enter a Number 10\n"
     ]
    },
    {
     "name": "stdout",
     "output_type": "stream",
     "text": [
      "3628800\n"
     ]
    }
   ],
   "source": [
    "number = int(input('Enter a Number'))\n",
    "factorial = 1\n",
    "\n",
    "for num in range(number,0,-1):\n",
    "    factorial*= num\n",
    "    \n",
    "print(factorial)\n",
    "    \n",
    "\n"
   ]
  },
  {
   "cell_type": "markdown",
   "id": "e857de4b-cf85-4429-ba15-1729e8134757",
   "metadata": {},
   "source": [
    "5. Create a program to print the multiplication table of a given number using a `for` loop.\n"
   ]
  },
  {
   "cell_type": "code",
   "execution_count": 16,
   "id": "a957e06e-fca1-45af-aba8-97cef5860139",
   "metadata": {},
   "outputs": [
    {
     "name": "stdin",
     "output_type": "stream",
     "text": [
      "Enter a number 12\n"
     ]
    },
    {
     "name": "stdout",
     "output_type": "stream",
     "text": [
      "12 X 1 = 12\n",
      "12 X 2 = 24\n",
      "12 X 3 = 36\n",
      "12 X 4 = 48\n",
      "12 X 5 = 60\n",
      "12 X 6 = 72\n",
      "12 X 7 = 84\n",
      "12 X 8 = 96\n",
      "12 X 9 = 108\n",
      "12 X 10 = 120\n"
     ]
    }
   ],
   "source": [
    "Number =  int(input(\"Enter a number\"))\n",
    "\n",
    "for num in range(1,11):\n",
    "    print(f\"{Number} X {num} = {Number*num}\")"
   ]
  },
  {
   "cell_type": "markdown",
   "id": "408fea8f-5c0b-4915-a8d6-efdac7e9139c",
   "metadata": {},
   "source": [
    "6. Write a program that counts the number of even and odd numbers in a list using a `for` loop.\n"
   ]
  },
  {
   "cell_type": "code",
   "execution_count": 19,
   "id": "98a532fc-308b-46e0-af7b-874e44049d75",
   "metadata": {},
   "outputs": [
    {
     "name": "stdout",
     "output_type": "stream",
     "text": [
      "The number of even numbers = 4\n",
      "The number of odd numbers = 4\n"
     ]
    }
   ],
   "source": [
    "list_of_numbers = [2,5,9,86,2,53,8,93]\n",
    "count_of_even = 0\n",
    "count_of_odd = 0\n",
    "\n",
    "for number  in list_of_numbers:\n",
    "    if number%2 ==0:\n",
    "        count_of_even+= 1\n",
    "    else:\n",
    "        count_of_odd += 1\n",
    "print(f\"The number of even numbers = {count_of_even}\\nThe number of odd numbers = {count_of_odd}\")\n"
   ]
  },
  {
   "cell_type": "markdown",
   "id": "d2e772ce-7ca1-46ee-bcc8-5106a38177b5",
   "metadata": {},
   "source": [
    "7. Develop a program that prints the squares of numbers from 1 to 5 using a `for` loop.\n"
   ]
  },
  {
   "cell_type": "code",
   "execution_count": 20,
   "id": "7e713e72-495d-42c0-8d2b-e77ab8717830",
   "metadata": {},
   "outputs": [
    {
     "name": "stdout",
     "output_type": "stream",
     "text": [
      "1\n",
      "4\n",
      "9\n",
      "16\n",
      "25\n"
     ]
    }
   ],
   "source": [
    "for i in range(1,6):\n",
    "    print(i*i)"
   ]
  },
  {
   "cell_type": "markdown",
   "id": "7e4f78e2-4624-41dc-a6df-6bfc279e0433",
   "metadata": {},
   "source": [
    "8. Create a program to find the length of a string without using the `len()` function.\n"
   ]
  },
  {
   "cell_type": "code",
   "execution_count": 21,
   "id": "09fc456e-5e19-44a6-ad8b-f9d197c1226c",
   "metadata": {},
   "outputs": [
    {
     "name": "stdin",
     "output_type": "stream",
     "text": [
      "Enter a String pwskills\n"
     ]
    },
    {
     "name": "stdout",
     "output_type": "stream",
     "text": [
      "The length of a string =  8\n"
     ]
    }
   ],
   "source": [
    "string = input('Enter a String')\n",
    "length = 0\n",
    "\n",
    "for char in string:\n",
    "    length+=1\n",
    "print(\"The length of a string = \",length)"
   ]
  },
  {
   "cell_type": "markdown",
   "id": "a6d64f67-d68d-4b9e-bc94-d3c3ef40b3a7",
   "metadata": {},
   "source": [
    "9. Write a program that calculates the average of a list of numbers using a `for` loop.\n"
   ]
  },
  {
   "cell_type": "code",
   "execution_count": 24,
   "id": "5b11ca4f-a07e-430f-aae3-7c4cf25f4375",
   "metadata": {},
   "outputs": [
    {
     "name": "stdout",
     "output_type": "stream",
     "text": [
      "The Average of a list = 32.25\n"
     ]
    }
   ],
   "source": [
    "list_of_numbers = [2,5,9,86,2,53,8,93]\n",
    "Sum = 0\n",
    "\n",
    "\n",
    "for number in list_of_numbers:\n",
    "    Sum+=number \n",
    "    Average = Sum/len(list_of_numbers)\n",
    "print(\"The Average of a list =\",Average)\n",
    "    "
   ]
  },
  {
   "cell_type": "markdown",
   "id": "430fca79-dcbe-4cd4-8636-af9ab1868f83",
   "metadata": {},
   "source": [
    "10. Develop a program that prints the first `n` Fibonacci numbers using a `for` loop."
   ]
  },
  {
   "cell_type": "code",
   "execution_count": 1,
   "id": "3bb181cf-f4f0-4624-b3f8-43810004a9a0",
   "metadata": {},
   "outputs": [
    {
     "name": "stdin",
     "output_type": "stream",
     "text": [
      "Enter a number 12\n"
     ]
    },
    {
     "name": "stdout",
     "output_type": "stream",
     "text": [
      "0\n",
      "1\n",
      "1\n",
      "2\n",
      "3\n",
      "5\n",
      "8\n",
      "13\n",
      "21\n",
      "34\n",
      "55\n",
      "89\n"
     ]
    }
   ],
   "source": [
    "fib_num = int(input('Enter a number'))\n",
    "num1 = 0\n",
    "num2 = 1\n",
    "list_of_fib = [num1 , num2]\n",
    "\n",
    "\n",
    "\n",
    "for num in range(0,fib_num-2):\n",
    "    fib = list_of_fib[num]+list_of_fib[num+1]\n",
    "    list_of_fib.append(fib)\n",
    "    \n",
    "    \n",
    "for i in range(0,len(list_of_fib)):\n",
    "    print(list_of_fib[i])\n",
    "  \n",
    "    "
   ]
  },
  {
   "cell_type": "markdown",
   "id": "57404245-9c9e-4226-8ba1-63c666e30d0c",
   "metadata": {},
   "source": [
    "# Intermediate Level:\n"
   ]
  },
  {
   "cell_type": "markdown",
   "id": "4ff04a21-fa88-4772-857e-1ac66360292a",
   "metadata": {},
   "source": [
    "11. Write a program to check if a given list contains any duplicates using a `for` loop.\n"
   ]
  },
  {
   "cell_type": "code",
   "execution_count": 10,
   "id": "cda7b25d-599e-47dc-843f-17d0111b212e",
   "metadata": {},
   "outputs": [
    {
     "name": "stdout",
     "output_type": "stream",
     "text": [
      "The list  Contains duplicate Values\n"
     ]
    }
   ],
   "source": [
    "x = ['sagar','pwskills','sagar']\n",
    "y = []\n",
    "\n",
    "\n",
    "for value in x:\n",
    "    if value not in y:\n",
    "        y.append(value)\n",
    "if y==x:\n",
    "    print(\"The list not contains duplicate Values\")\n",
    "else:\n",
    "    print(\"The list  Contains duplicate Values\")"
   ]
  },
  {
   "cell_type": "markdown",
   "id": "cde6d48e-ad5a-4720-abb2-48b5b3d60659",
   "metadata": {},
   "source": [
    "12. Create a program that prints the prime numbers in a given range using a `for` loop.\n"
   ]
  },
  {
   "cell_type": "code",
   "execution_count": 19,
   "id": "87e1cc6a-09da-4737-b6df-79da8455ea6d",
   "metadata": {},
   "outputs": [
    {
     "name": "stdin",
     "output_type": "stream",
     "text": [
      "Enter Upper limit number 25\n",
      "Enter lower limit number 12\n"
     ]
    },
    {
     "name": "stdout",
     "output_type": "stream",
     "text": [
      " The Prime numbers bn 25 and 12 are\n",
      "13\n",
      "17\n",
      "19\n",
      "23\n"
     ]
    }
   ],
   "source": [
    "upper_limit = int(input('Enter Upper limit number'))\n",
    "lower_limit = int(input('Enter lower limit number'))\n",
    "\n",
    "\n",
    "\n",
    "print(f\" The Prime numbers bn {upper_limit} and {lower_limit} are\")\n",
    "for num in range(lower_limit,upper_limit+1):\n",
    "    if num >1:\n",
    "        for divisor in range(2,num):\n",
    "            if num % divisor == 0:\n",
    "                break\n",
    "        else:\n",
    "            print(num)\n"
   ]
  },
  {
   "cell_type": "markdown",
   "id": "ffbdb763-c9f4-458e-8bac-c8773f3c32cf",
   "metadata": {},
   "source": [
    "13. Develop a program that counts the number of vowels in a string using a `for` loop.\n"
   ]
  },
  {
   "cell_type": "code",
   "execution_count": 22,
   "id": "c8900e3d-7330-4e38-8e58-f9375d658ccf",
   "metadata": {},
   "outputs": [
    {
     "name": "stdin",
     "output_type": "stream",
     "text": [
      "Enter a string Delhi is the capital city of India\n"
     ]
    },
    {
     "name": "stdout",
     "output_type": "stream",
     "text": [
      "The Numbers of vowels in a string = 12\n"
     ]
    }
   ],
   "source": [
    "String = input('Enter a string')\n",
    "count = 0\n",
    "for letter in String:\n",
    "    if letter in ['a','e','i','o','u'] or letter in ['A','E','I','O','U']:\n",
    "        count+=1\n",
    "print(f'The Numbers of vowels in a string = {count}')"
   ]
  },
  {
   "cell_type": "markdown",
   "id": "95448997-295d-47a6-9620-6b945a33c5db",
   "metadata": {},
   "source": [
    "14. Write a program to find the maximum element in a 2D list using a nested `for` loop.\n"
   ]
  },
  {
   "cell_type": "code",
   "execution_count": 25,
   "id": "43d8f877-b1f4-49d8-931e-08662d41e866",
   "metadata": {},
   "outputs": [
    {
     "name": "stdout",
     "output_type": "stream",
     "text": [
      "The Maximum element in the 2D array = 17\n"
     ]
    }
   ],
   "source": [
    "matrix = [[0, 1, 2],\n",
    "          [3, 4, 5],\n",
    "          [6, 7, 17],\n",
    "          [9, 10, 11]]\n",
    "refined_matrix = []\n",
    "for l in matrix:\n",
    "    oneD_array = sorted(l,reverse = True)\n",
    "    refined_matrix.append(oneD_array[0])\n",
    "print(f\"The Maximum element in the 2D array = {max(refined_matrix)}\")\n",
    "    \n",
    "    "
   ]
  },
  {
   "cell_type": "markdown",
   "id": "98faba1c-e1f2-4b32-aa05-58a1467b9f84",
   "metadata": {},
   "source": [
    "15. Create a program that removes all occurrences of a specific element from a list using a `for` loop.\n"
   ]
  },
  {
   "cell_type": "code",
   "execution_count": 29,
   "id": "6520e13f-bb8a-4f54-9806-c1379e69248d",
   "metadata": {},
   "outputs": [
    {
     "name": "stdin",
     "output_type": "stream",
     "text": [
      "Enter a element which you want to remove 3\n"
     ]
    },
    {
     "name": "stdout",
     "output_type": "stream",
     "text": [
      "[0, 1, 2, 4, 5, 6, 7, 17, 9, 10, 11]\n"
     ]
    }
   ],
   "source": [
    "array = [0, 1, 2,3, 4, 5, 6, 7, 17,9, 10, 11] \n",
    "target = int(input('Enter a element which you want to remove'))\n",
    "\n",
    "for i in array:\n",
    "    if i == target:\n",
    "        array.remove(target)\n",
    "\n",
    "print(array)\n",
    "        "
   ]
  },
  {
   "cell_type": "markdown",
   "id": "f6e495af-077f-4cac-9222-564e584a8ef9",
   "metadata": {},
   "source": [
    "16. Develop a program that generates a multiplication table for numbers from 1 to 5 using a nested `for` loop.\n"
   ]
  },
  {
   "cell_type": "code",
   "execution_count": 33,
   "id": "5b68b399-1052-43e6-86e4-e9ed092e28e6",
   "metadata": {},
   "outputs": [
    {
     "name": "stdout",
     "output_type": "stream",
     "text": [
      "1 x 1= 1\n",
      "1 x 2= 2\n",
      "1 x 3= 3\n",
      "1 x 4= 4\n",
      "1 x 5= 5\n",
      "1 x 6= 6\n",
      "1 x 7= 7\n",
      "1 x 8= 8\n",
      "1 x 9= 9\n",
      "1 x 10= 10\n",
      "2 x 1= 2\n",
      "2 x 2= 4\n",
      "2 x 3= 6\n",
      "2 x 4= 8\n",
      "2 x 5= 10\n",
      "2 x 6= 12\n",
      "2 x 7= 14\n",
      "2 x 8= 16\n",
      "2 x 9= 18\n",
      "2 x 10= 20\n",
      "3 x 1= 3\n",
      "3 x 2= 6\n",
      "3 x 3= 9\n",
      "3 x 4= 12\n",
      "3 x 5= 15\n",
      "3 x 6= 18\n",
      "3 x 7= 21\n",
      "3 x 8= 24\n",
      "3 x 9= 27\n",
      "3 x 10= 30\n",
      "4 x 1= 4\n",
      "4 x 2= 8\n",
      "4 x 3= 12\n",
      "4 x 4= 16\n",
      "4 x 5= 20\n",
      "4 x 6= 24\n",
      "4 x 7= 28\n",
      "4 x 8= 32\n",
      "4 x 9= 36\n",
      "4 x 10= 40\n",
      "5 x 1= 5\n",
      "5 x 2= 10\n",
      "5 x 3= 15\n",
      "5 x 4= 20\n",
      "5 x 5= 25\n",
      "5 x 6= 30\n",
      "5 x 7= 35\n",
      "5 x 8= 40\n",
      "5 x 9= 45\n",
      "5 x 10= 50\n"
     ]
    }
   ],
   "source": [
    "for number in range(1,6):\n",
    "    for factor in range(1,11):\n",
    "        print(f'{number} x {factor}= {number*factor}')"
   ]
  },
  {
   "cell_type": "markdown",
   "id": "8cb23561-db49-4b04-8109-0168bc143046",
   "metadata": {},
   "source": [
    "17. Write a program that converts a list of Fahrenheit temperatures to Celsius using a `for` loop.\n"
   ]
  },
  {
   "cell_type": "code",
   "execution_count": 48,
   "id": "1c5869be-763b-42da-8379-bcc4cacd4875",
   "metadata": {},
   "outputs": [
    {
     "name": "stdout",
     "output_type": "stream",
     "text": [
      "[871, 890.0, 910.0, 929.0, 949.0, 968.0, 988.0, 1008.0, 1027.0, 1048]\n"
     ]
    }
   ],
   "source": [
    "f_temperature = [50, 51.1, 52.2, 53.3, 54.4,55.5, 56.6, 57.7, 58.8, 60]\n",
    "c_temperature = []\n",
    "\n",
    "for f in f_temperature:\n",
    "    c_temperature.append((32*f - 32) * 5//9)\n",
    "print(c_temperature)"
   ]
  },
  {
   "cell_type": "markdown",
   "id": "cbcd2ef2-e6dd-4600-b917-4507fd9adf3e",
   "metadata": {},
   "source": [
    "18. Create a program to print the common elements from two lists using a `for` loop.\n"
   ]
  },
  {
   "cell_type": "code",
   "execution_count": 7,
   "id": "007ccb24-40a3-4e73-988e-db43625e8b8c",
   "metadata": {},
   "outputs": [
    {
     "name": "stdout",
     "output_type": "stream",
     "text": [
      "33\n",
      "55\n",
      "45\n",
      "25\n"
     ]
    }
   ],
   "source": [
    "list_A = [78,33,89,45,263,25,55,89]\n",
    "list_B =  [79,33,55,45,26,25,66]\n",
    "\n",
    "if len(list_B) >= len(list_A):\n",
    "    for i in list_A:\n",
    "        for j in list_B:\n",
    "            if i==j:\n",
    "                print(i)\n",
    "else:\n",
    "    for i in list_B:\n",
    "        for j in list_A:\n",
    "            if i==j:\n",
    "                print(i)"
   ]
  },
  {
   "cell_type": "markdown",
   "id": "63919bee-adbb-4657-be23-22c8cadc5a29",
   "metadata": {},
   "source": [
    "19. Develop a program that prints the pattern of right-angled triangles using a `for` loop. Use ‘*’ to draw the\n",
    "pattern\n"
   ]
  },
  {
   "cell_type": "code",
   "execution_count": 14,
   "id": "06f4a8db-384a-4244-945c-e1cdee9919a5",
   "metadata": {},
   "outputs": [
    {
     "name": "stdout",
     "output_type": "stream",
     "text": [
      "*\n",
      "**\n",
      "***\n",
      "****\n",
      "*****\n"
     ]
    }
   ],
   "source": [
    "for i in range(1,6):\n",
    "    print('*'*i)"
   ]
  },
  {
   "cell_type": "markdown",
   "id": "941dc58d-14e4-4cac-b525-ca956a954181",
   "metadata": {},
   "source": [
    "20. Write a program to find the greatest common divisor (GCD) of two numbers using a `for` loop."
   ]
  },
  {
   "cell_type": "code",
   "execution_count": 32,
   "id": "0122b9b6-82f1-44ce-83bd-6b229d5a0b73",
   "metadata": {},
   "outputs": [
    {
     "name": "stdin",
     "output_type": "stream",
     "text": [
      "Enter two numbers 20 25\n"
     ]
    },
    {
     "name": "stdout",
     "output_type": "stream",
     "text": [
      "The GCD of (5, 20)  = 5\n"
     ]
    }
   ],
   "source": [
    "num1 , num2 = map(int,input('Enter two numbers').split())\n",
    "\n",
    "if num1 > num2:\n",
    "    num2,num1 = num1,num2\n",
    "\n",
    "remainder = num2 \n",
    "rem_list = []\n",
    "\n",
    "while remainder != 0:\n",
    "    remainder = num2%num1\n",
    "    rem_list.append(remainder)\n",
    "    if remainder == 0:\n",
    "        break\n",
    "    else:\n",
    "        num1,num2 =remainder,num1\n",
    "\n",
    "print(f'The GCD of {num1,num2}  = {rem_list[-2]}')"
   ]
  },
  {
   "cell_type": "markdown",
   "id": "e2116a3a-6124-4159-b967-c69596fc5d48",
   "metadata": {},
   "source": [
    "# Advanced Level:\n"
   ]
  },
  {
   "cell_type": "markdown",
   "id": "f3588bae-6b30-4c3f-ac7c-47692d25d972",
   "metadata": {},
   "source": [
    "21.Create a program that calculates the sum of the digits of numbers in a list using a list comprehension.\n"
   ]
  },
  {
   "cell_type": "code",
   "execution_count": 3,
   "id": "cd5ddba0-ec78-4ca0-b69f-d922cab1658e",
   "metadata": {},
   "outputs": [
    {
     "name": "stdout",
     "output_type": "stream",
     "text": [
      " The digital sum of the each element from list [23, 45, 62] = [5, 9, 8]\n"
     ]
    }
   ],
   "source": [
    "numbers = [23,45,62]\n",
    "\n",
    "sum_of_digit = [ sum(int(digit) for digit in str(number)) for number in numbers]\n",
    "print(f\" The digital sum of the each element from list {numbers} = {sum_of_digit}\")\n"
   ]
  },
  {
   "cell_type": "markdown",
   "id": "e40c00d8-e2f4-425f-bf20-1315feac9b26",
   "metadata": {},
   "source": [
    "22. Write a program to find the prime factors of a given number using a `for` loop and list comprehension.\n"
   ]
  },
  {
   "cell_type": "code",
   "execution_count": 2,
   "id": "61f48e0e-9d84-4d7e-8ede-146dfd6ac6b1",
   "metadata": {},
   "outputs": [
    {
     "name": "stdin",
     "output_type": "stream",
     "text": [
      "Enter a number:  69\n"
     ]
    },
    {
     "name": "stdout",
     "output_type": "stream",
     "text": [
      "The prime factors of 69 are: [3, 23]\n"
     ]
    }
   ],
   "source": [
    "num = int(input(\"Enter a number: \"))\n",
    "\n",
    "def prime_factors(n):\n",
    "    factors = []\n",
    "    \n",
    "   \n",
    "    while n % 2 == 0:\n",
    "        factors.append(2)\n",
    "        n //= 2\n",
    "    \n",
    "    for i in range(3, int(n**0.5) + 1, 2):\n",
    "        while n % i == 0:\n",
    "            factors.append(i)\n",
    "            n //= i\n",
    "    \n",
    "    \n",
    "    if n > 2:\n",
    "        factors.append(n)\n",
    "    \n",
    "    return factors\n",
    "\n",
    "\n",
    "\n",
    "\n",
    "    \n",
    "if num <= 1:\n",
    "    print(\"Prime factors are not defined for numbers less than or equal to 1.\")\n",
    "else:\n",
    "    factors = prime_factors(num)\n",
    "    print(f\"The prime factors of {num} are: {factors}\")"
   ]
  },
  {
   "cell_type": "markdown",
   "id": "eb56c5f9-c93e-44cd-9fa6-c42499201d95",
   "metadata": {},
   "source": [
    "23. Develop a program that extracts unique elements from a list and stores them in a new list using a list\n",
    "comprehension.\n"
   ]
  },
  {
   "cell_type": "code",
   "execution_count": 3,
   "id": "1999a63a-e0c5-4da5-ac07-601cc9c6774f",
   "metadata": {},
   "outputs": [
    {
     "name": "stdout",
     "output_type": "stream",
     "text": [
      "[2, 96, 51, 74]\n"
     ]
    }
   ],
   "source": [
    "list_of_elements = [2,8,7,9,9,5,5,5,8,7,96,51,74]\n",
    "new_list = [element for element in list_of_elements if list_of_elements.count(element)==1]\n",
    "print(new_list)"
   ]
  },
  {
   "cell_type": "markdown",
   "id": "e506b89b-b53d-45e6-87ed-116f0a7a8323",
   "metadata": {},
   "source": [
    "24. Create a program that generates a list of all palindromic numbers up to a specified limit using a list\n",
    "comprehension.\n"
   ]
  },
  {
   "cell_type": "code",
   "execution_count": 7,
   "id": "5f748c78-d420-4986-bed5-d47c7031f8aa",
   "metadata": {},
   "outputs": [
    {
     "data": {
      "text/plain": [
       "[101, 111, 121, 131, 141, 151, 161, 171, 181, 191]"
      ]
     },
     "execution_count": 7,
     "metadata": {},
     "output_type": "execute_result"
    }
   ],
   "source": [
    "lower_limit = 100\n",
    "upper_limit = 200\n",
    "palindrome = [number for number  in range(lower_limit,upper_limit+1) if str(number)[::] == str(number)[::-1]]\n",
    "palindrome"
   ]
  },
  {
   "cell_type": "markdown",
   "id": "b7bef64e-7359-42bc-b3b9-f48b5158c896",
   "metadata": {},
   "source": [
    "25. Write a program to flatten a nested list using list comprehension.\n"
   ]
  },
  {
   "cell_type": "code",
   "execution_count": 39,
   "id": "9de2ee71-fa01-4597-95af-e780ae227433",
   "metadata": {},
   "outputs": [
    {
     "data": {
      "text/plain": [
       "[1, 2, 5, 1, 3, 7, 9]"
      ]
     },
     "execution_count": 39,
     "metadata": {},
     "output_type": "execute_result"
    }
   ],
   "source": [
    "matrix = [[1, 2], [5, 1], [3,7,9]]\n",
    "\n",
    "flatten_list =  [val for sublist in matrix for val in sublist]\n",
    "flatten_list"
   ]
  },
  {
   "cell_type": "markdown",
   "id": "b584f487-5557-4e76-9705-22b0555d55bc",
   "metadata": {},
   "source": [
    "26. Develop a program that computes the sum of even and odd numbers in a list separately using list\n",
    "comprehension.\n"
   ]
  },
  {
   "cell_type": "code",
   "execution_count": 12,
   "id": "b3809392-b884-48dc-9c7c-143d83bf11e2",
   "metadata": {},
   "outputs": [
    {
     "name": "stdout",
     "output_type": "stream",
     "text": [
      "The sum of odd numbers = 36 and even numbers = 42\n"
     ]
    }
   ],
   "source": [
    "list_num = [1, 2, 3, 4, 5, 6, 7, 8, 9, 10, 11, 12]\n",
    "\n",
    "odd_sum  =  sum([i for i in list_num if i%2 != 0])\n",
    "even_sum  =  sum([i for i in list_num if i%2 == 0])\n",
    "\n",
    "print(f'The sum of odd numbers = {odd_sum} and even numbers = {even_sum}')"
   ]
  },
  {
   "cell_type": "markdown",
   "id": "49861354-32d8-4282-a331-febe4b7d99b3",
   "metadata": {},
   "source": [
    "27. Create a program that generates a list of squares of odd numbers between 1 and 10 using list\n",
    "comprehension.\n"
   ]
  },
  {
   "cell_type": "code",
   "execution_count": 13,
   "id": "e896d148-a550-4eab-b6ff-1fdd9be205f7",
   "metadata": {},
   "outputs": [
    {
     "data": {
      "text/plain": [
       "[1, 9, 25, 49, 81]"
      ]
     },
     "execution_count": 13,
     "metadata": {},
     "output_type": "execute_result"
    }
   ],
   "source": [
    "list_of_odd_squares = [i**2 for i in range(1,11) if i%2 != 0]\n",
    "list_of_odd_squares"
   ]
  },
  {
   "cell_type": "markdown",
   "id": "25cef5cb-8497-4467-b5c0-59faa679f786",
   "metadata": {},
   "source": [
    "28. Write a program that combines two lists into a dictionary using list comprehension.\n"
   ]
  },
  {
   "cell_type": "code",
   "execution_count": 1,
   "id": "dce1fcc4-51da-4f15-b54c-a3319a75b7c1",
   "metadata": {},
   "outputs": [
    {
     "name": "stdout",
     "output_type": "stream",
     "text": [
      "{'name': 'Alice', 'age': 25, 'city': 'New York'}\n"
     ]
    }
   ],
   "source": [
    "keys = [\"name\", \"age\", \"city\"]\n",
    "values = [\"Alice\", 25, \"New York\"]\n",
    "\n",
    "\n",
    "result_dict = {keys[i]: values[i] for i in range(len(keys))}\n",
    "\n",
    "print(result_dict)"
   ]
  },
  {
   "cell_type": "markdown",
   "id": "494aabb5-7f44-451f-a6b0-d4f188791a02",
   "metadata": {},
   "source": [
    "29. Develop a program that extracts the vowels from a string and stores them in a list using list comprehension.\n"
   ]
  },
  {
   "cell_type": "code",
   "execution_count": 106,
   "id": "ff4bedb4-c8a6-496f-971d-4c13a72c04c3",
   "metadata": {},
   "outputs": [
    {
     "name": "stdin",
     "output_type": "stream",
     "text": [
      "Enter a string India is my country\n"
     ]
    },
    {
     "data": {
      "text/plain": [
       "['I', 'i', 'a', 'i', 'o', 'u']"
      ]
     },
     "execution_count": 106,
     "metadata": {},
     "output_type": "execute_result"
    }
   ],
   "source": [
    "string = input(\"Enter a string\")\n",
    "\n",
    "vowels_list = [i for i in string if i in ['a','e','i','o','u'] or i in ['A','E','I','O','U']]\n",
    "vowels_list"
   ]
  },
  {
   "cell_type": "markdown",
   "id": "17e1f0cd-0df4-455d-92c0-3dad2e2108d1",
   "metadata": {},
   "source": [
    "30. Create a program that removes all non-numeric characters from a list of strings using list comprehension."
   ]
  },
  {
   "cell_type": "code",
   "execution_count": 20,
   "id": "fdba37f9-291e-45c3-9fb0-002434575905",
   "metadata": {},
   "outputs": [
    {
     "data": {
      "text/plain": [
       "[1, 2, 1, 3]"
      ]
     },
     "execution_count": 20,
     "metadata": {},
     "output_type": "execute_result"
    }
   ],
   "source": [
    "list_values = [1, 2, 'a', 1, 3]\n",
    "numeric_list = [i for i in list_values if str(i).isnumeric() == True]\n",
    "numeric_list\n"
   ]
  },
  {
   "cell_type": "markdown",
   "id": "dfdc3948-80b1-4752-86b5-777e1a569d45",
   "metadata": {},
   "source": [
    "# challenge level\n"
   ]
  },
  {
   "cell_type": "markdown",
   "id": "f10032a8-6a2d-454d-b796-a851135adde7",
   "metadata": {},
   "source": [
    "31. Write a program to generate a list of prime numbers using the Sieve of Eratosthenes algorithm and list\n",
    "comprehension.\n"
   ]
  },
  {
   "cell_type": "code",
   "execution_count": 3,
   "id": "ec50f6a3-137b-4cd8-895e-95c4ee0de095",
   "metadata": {},
   "outputs": [
    {
     "name": "stdin",
     "output_type": "stream",
     "text": [
      "Enter a limit to generate prime numbers up to:  75\n"
     ]
    },
    {
     "name": "stdout",
     "output_type": "stream",
     "text": [
      "Prime numbers up to 75: [2, 3, 5, 7, 11, 13, 17, 19, 23, 29, 31, 37, 41, 43, 47, 53, 59, 61, 67, 71, 73]\n"
     ]
    }
   ],
   "source": [
    "\n",
    "limit = int(input(\"Enter a limit to generate prime numbers up to: \"))\n",
    "\n",
    "sieve = [True] * (limit + 1)\n",
    "sieve[0] = sieve[1] = False\n",
    "\n",
    "\n",
    "for current_num in range(2, int(limit**0.5) + 1):\n",
    "    if sieve[current_num]:\n",
    "        for multiple in range(current_num * current_num, limit + 1, current_num):\n",
    "            sieve[multiple] = False\n",
    "\n",
    "\n",
    "prime_list = [num for num, is_prime in enumerate(sieve) if is_prime]\n",
    "\n",
    "print(f\"Prime numbers up to {limit}: {prime_list}\")\n"
   ]
  },
  {
   "cell_type": "markdown",
   "id": "cf636e28-2fe5-4d9f-9fbc-7ac10be5f446",
   "metadata": {},
   "source": [
    "32. Create a program that generates a list of all Pythagorean triplets up to a specified limit using list\n",
    "comprehension.\n"
   ]
  },
  {
   "cell_type": "code",
   "execution_count": 105,
   "id": "b15cef1f-f91c-4788-aecb-94ebb2642d56",
   "metadata": {},
   "outputs": [
    {
     "name": "stdin",
     "output_type": "stream",
     "text": [
      "Enter the limit value 5\n"
     ]
    },
    {
     "data": {
      "text/plain": [
       "[[3, 4, 5]]"
      ]
     },
     "execution_count": 105,
     "metadata": {},
     "output_type": "execute_result"
    }
   ],
   "source": [
    "limit = int(input('Enter the limit value'))\n",
    "\n",
    "if limit < 3:\n",
    "    print(\"Triplet < 3 'NON EXIST'\")\n",
    "else:\n",
    "    triplets = [[a,b,c] for c in range(0,limit+1) for b in range(1,c) for a in range(1,b) if a**2 + b**2 == c**2]\n",
    "    \n",
    "triplets"
   ]
  },
  {
   "cell_type": "markdown",
   "id": "043f6877-2a04-4cf5-8a7a-b0a9097c1a02",
   "metadata": {},
   "source": [
    "33. Develop a program that generates a list of all possible combinations of two lists using list comprehension.\n"
   ]
  },
  {
   "cell_type": "code",
   "execution_count": 4,
   "id": "337e73be-460e-4b6b-b5ad-0bc5b7ad9ab9",
   "metadata": {},
   "outputs": [
    {
     "name": "stdout",
     "output_type": "stream",
     "text": [
      "[(1, 'a'), (1, 'b'), (1, 'c'), (2, 'a'), (2, 'b'), (2, 'c'), (3, 'a'), (3, 'b'), (3, 'c')]\n"
     ]
    }
   ],
   "source": [
    "list1 = [1, 2, 3]\n",
    "list2 = ['a', 'b', 'c']\n",
    "\n",
    "combinations = [(x, y) for x in list1 for y in list2]\n",
    "print(combinations)\n"
   ]
  },
  {
   "cell_type": "markdown",
   "id": "38c7ca58-c940-4cfd-ac8f-f722f6225c82",
   "metadata": {},
   "source": [
    "34. Write a program that calculates the mean, median, and mode of a list of numbers using list\n",
    "comprehension.\n"
   ]
  },
  {
   "cell_type": "code",
   "execution_count": 5,
   "id": "7d6eb69c-0cc4-4705-ad8f-07b3b32e8236",
   "metadata": {},
   "outputs": [
    {
     "name": "stdout",
     "output_type": "stream",
     "text": [
      "Mean: 4.1\n",
      "Median: 4.5\n",
      "Mode: 2\n"
     ]
    }
   ],
   "source": [
    "numbers = [1, 2, 2, 3, 4, 5, 5, 6, 6, 7]\n",
    "\n",
    "mean = sum(numbers) / len(numbers)\n",
    "\n",
    "\n",
    "sorted_numbers = sorted(numbers)\n",
    "middle = len(sorted_numbers) // 2\n",
    "\n",
    "if len(sorted_numbers) % 2 == 0:\n",
    "    median = (sorted_numbers[middle - 1] + sorted_numbers[middle]) / 2\n",
    "else:\n",
    "    median = sorted_numbers[middle]\n",
    "\n",
    "mode = max(set(numbers), key=numbers.count)\n",
    "\n",
    "\n",
    "print(f\"Mean: {mean}\")\n",
    "print(f\"Median: {median}\")\n",
    "print(f\"Mode: {mode}\")\n"
   ]
  },
  {
   "cell_type": "markdown",
   "id": "fcf18ba7-8a98-42a3-85ec-52d69ed856e5",
   "metadata": {},
   "source": [
    "35. Create a program that generates Pascal's triangle up to a specified number of rows using list\n",
    "comprehension.\n"
   ]
  },
  {
   "cell_type": "code",
   "execution_count": 6,
   "id": "bcab30a3-89dc-4b2d-bd8d-b9aab8e21566",
   "metadata": {},
   "outputs": [
    {
     "name": "stdin",
     "output_type": "stream",
     "text": [
      "Enter the number of rows for Pascal's triangle:  6\n"
     ]
    },
    {
     "name": "stdout",
     "output_type": "stream",
     "text": [
      "        1         \n",
      "       1 1        \n",
      "      1 2 1       \n",
      "     1 3 3 1      \n",
      "    1 4 6 4 1     \n",
      "  1 5 10 10 5 1   \n"
     ]
    }
   ],
   "source": [
    "\n",
    "n = int(input(\"Enter the number of rows for Pascal's triangle: \"))\n",
    "\n",
    "triangle = [[1]]\n",
    "\n",
    "for _ in range(n - 1):\n",
    "    previous_row = triangle[-1]\n",
    "    new_row = [1] + [previous_row[i] + previous_row[i + 1] for i in range(len(previous_row) - 1)] + [1]\n",
    "    triangle.append(new_row)\n",
    "\n",
    "\n",
    "for row in triangle:\n",
    "    print(' '.join(map(str, row)).center(n * 3))\n"
   ]
  },
  {
   "cell_type": "markdown",
   "id": "99094ee4-69bb-4900-8163-5824079d7d8f",
   "metadata": {},
   "source": [
    "36. Develop a program that calculates the sum of the digits of a factorial of numbers from 1 to 5 using list\n",
    "comprehension.\n"
   ]
  },
  {
   "cell_type": "code",
   "execution_count": 48,
   "id": "1e84b52f-ceb4-48e6-a1e8-5316ce1f32c5",
   "metadata": {},
   "outputs": [
    {
     "data": {
      "text/plain": [
       "[1, 2, 6, 6, 3]"
      ]
     },
     "execution_count": 48,
     "metadata": {},
     "output_type": "execute_result"
    }
   ],
   "source": [
    "from math import factorial \n",
    "sum_of_digits = [sum((int(digit)) for digit  in str(factorial(num))) for num in range(1,6) ]\n",
    "sum_of_digits\n"
   ]
  },
  {
   "cell_type": "markdown",
   "id": "94e1e3d7-fb0b-44c4-9587-5e5bbd83d238",
   "metadata": {},
   "source": [
    "37. Write a program that finds the longest word in a sentence using list comprehension.\n"
   ]
  },
  {
   "cell_type": "code",
   "execution_count": 104,
   "id": "557b620c-fd98-4aa8-9368-e53df83fda82",
   "metadata": {},
   "outputs": [
    {
     "name": "stdin",
     "output_type": "stream",
     "text": [
      "enter a sentence my name is safar\n"
     ]
    },
    {
     "name": "stdout",
     "output_type": "stream",
     "text": [
      "The longest word in the above sentence is 'safar'\n"
     ]
    }
   ],
   "source": [
    "sentence = input('enter a sentence').split()\n",
    "\n",
    "count = [len(word) for word in sentence]\n",
    "\n",
    "longest_word = print(f\"The longest word in the above sentence is '{sentence[count.index(max(count))]}'\")"
   ]
  },
  {
   "cell_type": "markdown",
   "id": "e1ed80bb-96fa-4b93-9b8e-d6262de051b5",
   "metadata": {},
   "source": [
    "38. Create a program that filters a list of strings to include only those with more than three vowels using list\n",
    "comprehension.\n"
   ]
  },
  {
   "cell_type": "code",
   "execution_count": 17,
   "id": "6fb9b7c8-19d7-4715-b5b9-b8a13c83ab2d",
   "metadata": {},
   "outputs": [
    {
     "name": "stdout",
     "output_type": "stream",
     "text": [
      "Strings with more than three vowels:\n",
      "heeello\n"
     ]
    }
   ],
   "source": [
    "\n",
    "strings = [\"heeello\", \"world\", \"programming\", \"is\", \"fun\", \"and\", \"challenging\"]\n",
    "\n",
    "\n",
    "filtered_strings = [string for string in strings if sum(1 for char in string if char in \"AEIOUaeiou\") > 3]\n",
    "\n",
    "\n",
    "print(\"Strings with more than three vowels:\")\n",
    "\n",
    "for string in filtered_strings:\n",
    "    print(string)\n",
    "\n",
    "\n"
   ]
  },
  {
   "cell_type": "markdown",
   "id": "b9d0d098-09d1-41d1-bef0-2c870e08c4c7",
   "metadata": {},
   "source": [
    "39. Develop a program that calculates the sum of the digits of numbers from 1 to 1000 using list\n",
    "comprehension.\n"
   ]
  },
  {
   "cell_type": "code",
   "execution_count": 20,
   "id": "46c8ef1a-fb97-4c6f-9dc4-f21a86621b2d",
   "metadata": {
    "tags": []
   },
   "outputs": [
    {
     "data": {
      "text/plain": [
       "13501"
      ]
     },
     "execution_count": 20,
     "metadata": {},
     "output_type": "execute_result"
    }
   ],
   "source": [
    "sum_of_digit  =  sum([int(j) for i in range(1,1001) for j in str(i)])\n",
    "sum_of_digit \n"
   ]
  },
  {
   "cell_type": "markdown",
   "id": "308afc91-1a34-4fbb-ba68-772f10b12abd",
   "metadata": {},
   "source": [
    "40. Write a program that generates a list of prime palindromic numbers using list comprehension."
   ]
  },
  {
   "cell_type": "code",
   "execution_count": 21,
   "id": "ab7d9a35-b804-4d37-90a5-460fbcc3c462",
   "metadata": {
    "tags": []
   },
   "outputs": [
    {
     "name": "stdout",
     "output_type": "stream",
     "text": [
      "Prime palindromic numbers up to 1000:\n",
      "[1, 2, 3, 5, 7, 11, 101, 131, 151, 181, 191, 313, 353, 373, 383, 727, 757, 787, 797, 919, 929]\n"
     ]
    }
   ],
   "source": [
    "prime_palindromes = [num for num in range(1, 1000) if all(num % i != 0 for i in range(2, int(num**0.5) + 1)) and str(num) == str(num)[::-1]]\n",
    "\n",
    "print(\"Prime palindromic numbers up to 1000:\")\n",
    "print(prime_palindromes)\n"
   ]
  },
  {
   "cell_type": "code",
   "execution_count": null,
   "id": "db416364-1f1f-4970-8759-c07edc1838ba",
   "metadata": {},
   "outputs": [],
   "source": []
  },
  {
   "cell_type": "code",
   "execution_count": null,
   "id": "97fa6a67-30c4-4fac-8963-dd8cdce71fdd",
   "metadata": {},
   "outputs": [],
   "source": []
  },
  {
   "cell_type": "code",
   "execution_count": null,
   "id": "37ca307e-5cbf-4dcf-8da2-e2d68762b65c",
   "metadata": {},
   "outputs": [],
   "source": []
  },
  {
   "cell_type": "code",
   "execution_count": null,
   "id": "78febd1b-7a0c-459a-9e4b-f94889fe8402",
   "metadata": {},
   "outputs": [],
   "source": []
  },
  {
   "cell_type": "code",
   "execution_count": null,
   "id": "660db0be-48f2-4a51-868a-3f5fce07cb13",
   "metadata": {},
   "outputs": [],
   "source": []
  },
  {
   "cell_type": "code",
   "execution_count": null,
   "id": "a432c1bc-0f98-4d6b-a83a-1b2e196d19d4",
   "metadata": {},
   "outputs": [],
   "source": []
  },
  {
   "cell_type": "code",
   "execution_count": null,
   "id": "72c89b94-dbf1-45a1-a617-736eb2c12195",
   "metadata": {},
   "outputs": [],
   "source": []
  },
  {
   "cell_type": "code",
   "execution_count": null,
   "id": "83782b8e-97ee-4916-aa82-0ee852e098ed",
   "metadata": {},
   "outputs": [],
   "source": []
  },
  {
   "cell_type": "code",
   "execution_count": null,
   "id": "90750ed3-4074-4d7d-a9e3-b6ab31e75f96",
   "metadata": {},
   "outputs": [],
   "source": []
  },
  {
   "cell_type": "code",
   "execution_count": null,
   "id": "19a99596-38db-4f0f-b728-91165034e6ac",
   "metadata": {},
   "outputs": [],
   "source": []
  },
  {
   "cell_type": "code",
   "execution_count": null,
   "id": "baedd20b-f53e-4a97-b87c-7a7bafea57ac",
   "metadata": {},
   "outputs": [],
   "source": []
  },
  {
   "cell_type": "code",
   "execution_count": null,
   "id": "f1b7f58f-5559-4987-9929-c0087e432a02",
   "metadata": {},
   "outputs": [],
   "source": []
  },
  {
   "cell_type": "code",
   "execution_count": null,
   "id": "faf914ea-484e-40ee-ad6e-77c50e20737f",
   "metadata": {},
   "outputs": [],
   "source": []
  },
  {
   "cell_type": "code",
   "execution_count": null,
   "id": "878e9aab-ec51-45a7-99e3-12d1ce213357",
   "metadata": {},
   "outputs": [],
   "source": []
  },
  {
   "cell_type": "code",
   "execution_count": null,
   "id": "ce7996f3-32ea-4943-862b-62f1630ffbe0",
   "metadata": {},
   "outputs": [],
   "source": []
  },
  {
   "cell_type": "code",
   "execution_count": null,
   "id": "d54ec22f-55f5-443c-bec1-29727b70e108",
   "metadata": {},
   "outputs": [],
   "source": []
  },
  {
   "cell_type": "code",
   "execution_count": null,
   "id": "ab0d6736-0d6d-483e-81ff-7ab9bf7dc5f4",
   "metadata": {},
   "outputs": [],
   "source": []
  },
  {
   "cell_type": "code",
   "execution_count": null,
   "id": "dc8fc451-d212-427f-97d5-53169b1732e7",
   "metadata": {},
   "outputs": [],
   "source": []
  },
  {
   "cell_type": "code",
   "execution_count": null,
   "id": "599bceaa-dad9-45dc-a7e9-f15a701492e1",
   "metadata": {},
   "outputs": [],
   "source": []
  },
  {
   "cell_type": "code",
   "execution_count": null,
   "id": "55de912a-08b0-4909-b679-fbc84284e976",
   "metadata": {},
   "outputs": [],
   "source": []
  },
  {
   "cell_type": "code",
   "execution_count": null,
   "id": "3d05f69a-f856-4472-8444-b636f2fb18a8",
   "metadata": {},
   "outputs": [],
   "source": []
  },
  {
   "cell_type": "code",
   "execution_count": null,
   "id": "68808332-dc47-4957-9d90-eedf2018b5a0",
   "metadata": {},
   "outputs": [],
   "source": []
  },
  {
   "cell_type": "code",
   "execution_count": null,
   "id": "b7e80eff-70ee-42e4-a83b-75df253eaf32",
   "metadata": {},
   "outputs": [],
   "source": []
  },
  {
   "cell_type": "code",
   "execution_count": null,
   "id": "b8413a37-5775-420e-9da1-7bd797c29e8a",
   "metadata": {},
   "outputs": [],
   "source": []
  },
  {
   "cell_type": "code",
   "execution_count": null,
   "id": "ac277e54-377f-4803-9ace-31083bdc9c22",
   "metadata": {},
   "outputs": [],
   "source": []
  },
  {
   "cell_type": "code",
   "execution_count": null,
   "id": "816b9c0b-3a38-4aff-9955-2707f7315ce4",
   "metadata": {},
   "outputs": [],
   "source": []
  },
  {
   "cell_type": "code",
   "execution_count": null,
   "id": "ab187ee2-3989-4220-86f1-2dcd983db37e",
   "metadata": {},
   "outputs": [],
   "source": []
  },
  {
   "cell_type": "code",
   "execution_count": null,
   "id": "a5164d2b-bccb-4383-8023-d9c94dfbf391",
   "metadata": {},
   "outputs": [],
   "source": []
  },
  {
   "cell_type": "code",
   "execution_count": null,
   "id": "a51860bc-9ed1-4dfe-8d70-77172218f7a5",
   "metadata": {},
   "outputs": [],
   "source": []
  },
  {
   "cell_type": "code",
   "execution_count": null,
   "id": "8a09b2d7-8001-4b2e-a724-dc9f41448bf0",
   "metadata": {},
   "outputs": [],
   "source": []
  },
  {
   "cell_type": "code",
   "execution_count": null,
   "id": "8c72682c-4777-431d-b2bf-2ac333cce384",
   "metadata": {},
   "outputs": [],
   "source": []
  },
  {
   "cell_type": "code",
   "execution_count": null,
   "id": "2f1a61bd-4cf3-479d-89b8-33a2807a23a9",
   "metadata": {},
   "outputs": [],
   "source": []
  },
  {
   "cell_type": "code",
   "execution_count": null,
   "id": "1e55c5b5-d974-4836-96b2-b57a7fe72736",
   "metadata": {},
   "outputs": [],
   "source": []
  },
  {
   "cell_type": "code",
   "execution_count": null,
   "id": "0e272451-7d3b-40dc-a6a6-998b4465701d",
   "metadata": {},
   "outputs": [],
   "source": []
  },
  {
   "cell_type": "code",
   "execution_count": null,
   "id": "0ff8319e-ecb5-4e13-ab19-bbe494b3527b",
   "metadata": {},
   "outputs": [],
   "source": []
  },
  {
   "cell_type": "code",
   "execution_count": null,
   "id": "44245d8c-ee6b-4177-b417-069b4da74363",
   "metadata": {},
   "outputs": [],
   "source": []
  },
  {
   "cell_type": "code",
   "execution_count": null,
   "id": "0f7ff3f4-2736-4103-9bf8-474c8fe3fda8",
   "metadata": {},
   "outputs": [],
   "source": []
  },
  {
   "cell_type": "code",
   "execution_count": null,
   "id": "27a26819-f233-4d1f-ab2a-c3919ab8876d",
   "metadata": {},
   "outputs": [],
   "source": []
  },
  {
   "cell_type": "code",
   "execution_count": null,
   "id": "f871cb82-85ce-4637-887e-2a25ef9b77bc",
   "metadata": {},
   "outputs": [],
   "source": []
  },
  {
   "cell_type": "code",
   "execution_count": null,
   "id": "5160e345-d5e1-437c-af2b-eac96153b820",
   "metadata": {},
   "outputs": [],
   "source": []
  },
  {
   "cell_type": "code",
   "execution_count": null,
   "id": "0b237ba0-4427-4eb9-b758-266bffc48e4a",
   "metadata": {},
   "outputs": [],
   "source": []
  },
  {
   "cell_type": "code",
   "execution_count": null,
   "id": "2f208f33-6fed-46dc-bd66-0cc49e031161",
   "metadata": {},
   "outputs": [],
   "source": []
  },
  {
   "cell_type": "code",
   "execution_count": null,
   "id": "2c80fbba-3b1f-42d8-a9eb-70c7768ab3a1",
   "metadata": {},
   "outputs": [],
   "source": []
  },
  {
   "cell_type": "code",
   "execution_count": null,
   "id": "34b8ea3e-55a4-4ca7-b872-622d19a4f6c6",
   "metadata": {},
   "outputs": [],
   "source": []
  },
  {
   "cell_type": "code",
   "execution_count": null,
   "id": "03232e97-8595-4f0d-89bf-14909643d106",
   "metadata": {},
   "outputs": [],
   "source": []
  },
  {
   "cell_type": "code",
   "execution_count": null,
   "id": "923b6d0d-111c-4654-a2ad-35a843b3ac96",
   "metadata": {},
   "outputs": [],
   "source": []
  }
 ],
 "metadata": {
  "kernelspec": {
   "display_name": "Python 3 (ipykernel)",
   "language": "python",
   "name": "python3"
  },
  "language_info": {
   "codemirror_mode": {
    "name": "ipython",
    "version": 3
   },
   "file_extension": ".py",
   "mimetype": "text/x-python",
   "name": "python",
   "nbconvert_exporter": "python",
   "pygments_lexer": "ipython3",
   "version": "3.10.8"
  }
 },
 "nbformat": 4,
 "nbformat_minor": 5
}
